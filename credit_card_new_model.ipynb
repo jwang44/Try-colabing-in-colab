{
  "nbformat": 4,
  "nbformat_minor": 0,
  "metadata": {
    "colab": {
      "name": "credit_card_exp.ipynb",
      "provenance": [],
      "include_colab_link": true
    },
    "kernelspec": {
      "name": "python3",
      "display_name": "Python 3"
    }
  },
  "cells": [
    {
      "cell_type": "markdown",
      "metadata": {
        "id": "view-in-github",
        "colab_type": "text"
      },
      "source": [
        "<a href=\"https://colab.research.google.com/github/jwang44/Try-colabing-in-colab/blob/main/credit_card_new_model.ipynb\" target=\"_parent\"><img src=\"https://colab.research.google.com/assets/colab-badge.svg\" alt=\"Open In Colab\"/></a>"
      ]
    },
    {
      "cell_type": "markdown",
      "metadata": {
        "id": "W0NkwhApnnJk"
      },
      "source": [
        "# ECSE 551 Mini-project 1\n",
        "*Group 10: Junhao Wang, Yinan Zhou, and Ruilin Ji*\n",
        "\n",
        "This notebook is dedicated for the credit card dataset, including the model, cross validation, and various experiment. "
      ]
    },
    {
      "cell_type": "markdown",
      "metadata": {
        "id": "XeEmvASNOp83"
      },
      "source": [
        "## Start here"
      ]
    },
    {
      "cell_type": "code",
      "metadata": {
        "id": "YGuRPcn_IsKD",
        "colab": {
          "base_uri": "https://localhost:8080/"
        },
        "outputId": "af5f050e-ba8b-4c24-b59c-b6184bec5798"
      },
      "source": [
        "from google.colab import drive\r\n",
        "drive.mount('/content/drive')"
      ],
      "execution_count": null,
      "outputs": [
        {
          "output_type": "stream",
          "text": [
            "Mounted at /content/drive\n"
          ],
          "name": "stdout"
        }
      ]
    },
    {
      "cell_type": "code",
      "metadata": {
        "id": "nrLPT4OTIt5v",
        "colab": {
          "base_uri": "https://localhost:8080/"
        },
        "outputId": "a52b93fc-55d5-48d8-bebc-e2bdbb8511d0"
      },
      "source": [
        "%cd \"/content/drive/My Drive/\""
      ],
      "execution_count": null,
      "outputs": [
        {
          "output_type": "stream",
          "text": [
            "/content/drive/My Drive\n"
          ],
          "name": "stdout"
        }
      ]
    },
    {
      "cell_type": "code",
      "metadata": {
        "id": "quNizIZXIrdM"
      },
      "source": [
        "import numpy as np\r\n",
        "import pandas as pd\r\n",
        "import scipy.stats\r\n",
        "import statistics"
      ],
      "execution_count": null,
      "outputs": []
    },
    {
      "cell_type": "markdown",
      "metadata": {
        "id": "AC_w-5Z0sMsJ"
      },
      "source": [
        "## Credit Card Dataset"
      ]
    },
    {
      "cell_type": "code",
      "metadata": {
        "id": "oQ-nyMGN0pKx"
      },
      "source": [
        "# generate new feature by multiplication and normalize\r\n",
        "def newfeature(x,y):\r\n",
        "  z=x*y\r\n",
        "  norz=scipy.stats.zscore(z, axis=0, ddof=0, nan_policy='propagate')\r\n",
        "  return norz"
      ],
      "execution_count": null,
      "outputs": []
    },
    {
      "cell_type": "code",
      "metadata": {
        "id": "iXiM3pnF5j-2"
      },
      "source": [
        "# convert csv to dataframe\n",
        "df = pd.read_csv('creditcard.csv')\n",
        "original_data = df.to_numpy()"
      ],
      "execution_count": null,
      "outputs": []
    },
    {
      "cell_type": "code",
      "metadata": {
        "id": "QhHo1NiB4xWr"
      },
      "source": [
        "# normalize feature\r\n",
        "NorData = scipy.stats.zscore(df.iloc[:,:-1], axis=0, ddof=0, nan_policy='propagate') # no class column\r\n",
        "# normalized dataset\r\n",
        "NorDataset = np.column_stack((NorData,df.iloc[:,-1]))"
      ],
      "execution_count": null,
      "outputs": []
    },
    {
      "cell_type": "markdown",
      "metadata": {
        "id": "e0kzCB3F5uWL"
      },
      "source": [
        "New feature"
      ]
    },
    {
      "cell_type": "code",
      "metadata": {
        "id": "iyg90-iG5vCB"
      },
      "source": [
        "NewF1 = newfeature(df.V3, df.V7)\r\n",
        "NewF2 = newfeature(df.V11, df.V12)\r\n",
        "NewF3 = newfeature(df.V12, df.V16)\r\n",
        "NewF4 = newfeature(df.V16, df.V17)\r\n",
        "NewF5 = newfeature(df.V16, df.V18)\r\n",
        "NewF6 = newfeature(df.V17, df.V18)\r\n",
        "# new feature\r\n",
        "NewF = np.column_stack((NewF1,NewF2,NewF3,NewF4,NewF5,NewF6))"
      ],
      "execution_count": null,
      "outputs": []
    },
    {
      "cell_type": "code",
      "metadata": {
        "id": "mKMYL_506R_G"
      },
      "source": [
        "# normalized dataset with new feature\r\n",
        "NorDatasetNew = np.column_stack((NorData,NewF,df.iloc[:,-1]))"
      ],
      "execution_count": null,
      "outputs": []
    },
    {
      "cell_type": "markdown",
      "metadata": {
        "id": "TwnmcLuQsdWb"
      },
      "source": [
        "## The model"
      ]
    },
    {
      "cell_type": "code",
      "metadata": {
        "id": "j1X71amBOCtA"
      },
      "source": [
        "# sigmoid function\n",
        "def sigmoid(a):\n",
        "  return 1/(1+np.exp(-a))\n",
        "\n",
        "class Logistic_regression():\n",
        "  def __init__(self):#,X_train,y_train,learning_rate,X_test,y_test):\n",
        "    pass\n",
        "    \n",
        "  # training\n",
        "  def fit(self,X_train,y_train,learning_rate):\n",
        "    #n,m = np.shape(self.X_train)\n",
        "    n,m = np.shape(X_train)  \n",
        "    wk = np.ones([m+1,1]) # wk weights, initialized with 1\n",
        "    wk1 = np.zeros([m+1,1])# wk+1 weights,initialized with 0          \n",
        "    itrnum = 500       # max number of iterations \n",
        "    e = 0.001\n",
        "    der = 0\n",
        "    for k in range(0,itrnum):\n",
        "      for i in range(0,n):\n",
        "        #xi = self.X_train[i].T\n",
        "        xi = X_train[i].T\n",
        "        x0 = np.array([1])\n",
        "        xi = np.concatenate((xi, x0),axis = 0)\n",
        "        #yi = self.y_train[i]\n",
        "        yi = y_train[i]\n",
        "        der = der-xi*(yi-sigmoid(np.matmul(wk[:,0].T,xi))) # take derivative w.r.t w\n",
        "      #wk1[:,0] = wk[:,0]-self.learning_rate*der       # update rule\n",
        "      wk1[:,0] = wk[:,0]-learning_rate*der       # update rule\n",
        "      if (np.linalg.norm(wk1[:,0]-wk[:,0]))**2<e:         \n",
        "        break \n",
        "      else:\n",
        "        wk = wk1.copy()\n",
        "    return wk1\n",
        "  \n",
        "  # validation\n",
        "  def predict(self,w,X_test):\n",
        "    #n,m = np.shape(self.X_test)\n",
        "    n,m = np.shape(X_test)   \n",
        "    y_predict = np.zeros([n,1])\n",
        "    for i in range(0,n):\n",
        "      #xi = self.X_test[i].T\n",
        "      xi = X_test[i].T\n",
        "      x0 = np.array([1])\n",
        "      xi = np.concatenate((xi, x0),axis = 0)\n",
        "      p1 = sigmoid(np.matmul(w.T,xi)) # calculate probabilities p(y=1|x)\n",
        "      # covert probabilities to 0 or 1 by thresholding at 0.5\n",
        "      if p1>=0.5:\n",
        "        y_predict[i] = 1\n",
        "      else:\n",
        "        y_predict[i] = 0\n",
        "    return y_predict\n",
        "\n",
        "  # evaluate accuracy\n",
        "  def Accu_eval(self,y_test,y_predict):\n",
        "    #y_predict = self.predict(X_test)\n",
        "    n,j = np.shape(y_predict)\n",
        "    TP = 0;FP = 0;TN = 0;FN = 0\n",
        "    # count TP,TN,FP,FN in validation set\n",
        "    '''for i in range(n):\n",
        "      if  self.y_test[i]==1 and y_predict[i]==1:\n",
        "        TP = TP+1\n",
        "      elif self.y_test[i]==0 and y_predict[i]==0:\n",
        "        TN = TN+1\n",
        "      elif self.y_test[i]==0 and y_predict[i]==1:\n",
        "        FP = FP+1\n",
        "      elif self.y_test[i]==1 and y_predict[i]==0:\n",
        "        FN = FN+1'''\n",
        "    for i in range(n):\n",
        "      if  y_test[i]==1 and y_predict[i]==1:\n",
        "        TP = TP+1\n",
        "      elif y_test[i]==0 and y_predict[i]==0:\n",
        "        TN = TN+1\n",
        "      elif y_test[i]==0 and y_predict[i]==1:\n",
        "        FP = FP+1\n",
        "      elif y_test[i]==1 and y_predict[i]==0:\n",
        "        FN = FN+1    \n",
        "    accuracy = (TP+TN)/(TP+TN+FP+FN)\n",
        "    precision = TP/(TP+FP)\n",
        "    recall = TP/(TP+FN)\n",
        "    F = 2*precision*recall/(precision+recall)\n",
        "    specificity = TN/(FP+TN)\n",
        "    FPR = FP/(FP+TN)\n",
        "    print(\"accuracy:\",accuracy)\n",
        "    # print(\"precision:\",precision)\n",
        "    # print(\"recall:\",recall)\n",
        "    # print(\"F:\",F)\n",
        "    # print(\"specificity:\",specificity)\n",
        "    # print(\"False Positive Rate:\",FPR)\n",
        "    # print(\"\")\n",
        "    return accuracy\n",
        "    "
      ],
      "execution_count": 24,
      "outputs": []
    },
    {
      "cell_type": "markdown",
      "metadata": {
        "id": "-qAaqa2lsZhe"
      },
      "source": [
        "## Cross validation"
      ]
    },
    {
      "cell_type": "code",
      "metadata": {
        "id": "MhmGiMSZ7wqx"
      },
      "source": [
        "class Cross_validation():\n",
        "  def __init__(self, k):\n",
        "    # k: k-fold\n",
        "    self.k = k\n",
        "\n",
        "  def prepare_data(self, data):\n",
        "    # data: np array converted from csv\n",
        "    np.random.shuffle(data)\n",
        "    X = data[:, :-1]  # features\n",
        "    y = data[:, -1]   # labels\n",
        "\n",
        "    # split data into k equal segments, assign them to train and test later\n",
        "    Xs = np.array_split(X, self.k, axis=0)\n",
        "    ys = np.array_split(y, self.k, axis=0)\n",
        "    return Xs, ys\n",
        "\n",
        "  def get_accuracy(self, Xs, ys, lr):\n",
        "    accu_trains = []\n",
        "    accu_tests = []\n",
        "    for i in range(self.k):\n",
        "      X_cv = Xs[:] # X_cross_validation\n",
        "      y_cv = ys[:] # y_cross_validation\n",
        "\n",
        "      X_test = X_cv.pop(i)\n",
        "      y_test = y_cv.pop(i)\n",
        "\n",
        "      X_train = np.concatenate(X_cv)\n",
        "      y_train = np.concatenate(y_cv)\n",
        "\n",
        "      model = Logistic_regression()\n",
        "      w = model.fit(X_train, y_train, lr)\n",
        "\n",
        "      print(\"----------FOLD \", i+1, \"----------\")\n",
        "\n",
        "      print(\"----Train----\")\n",
        "      y_predict_train = model.predict(w, X_train)\n",
        "      accu_train = model.Accu_eval(y_train, y_predict_train)\n",
        "      accu_trains.append(accu_train)\n",
        "\n",
        "      print(\"----Validation----\")\n",
        "      y_predict_test = model.predict(w, X_test)\n",
        "      accu_test = model.Accu_eval(y_test, y_predict_test)\n",
        "      accu_tests.append(accu_test)\n",
        "\n",
        "    return np.mean(accu_trains), np.mean(accu_tests)\n"
      ],
      "execution_count": null,
      "outputs": []
    },
    {
      "cell_type": "markdown",
      "metadata": {
        "id": "IK8uhC3hsReE"
      },
      "source": [
        "## Experiment with different learning rates"
      ]
    },
    {
      "cell_type": "code",
      "metadata": {
        "id": "zwcQFygT8GOn",
        "colab": {
          "base_uri": "https://localhost:8080/"
        },
        "outputId": "292ed12b-c943-434d-f3c8-d81dfd87de86"
      },
      "source": [
        "lrs = np.logspace(-5, -1, 10) # different learning rates to try\n",
        "# or we can also try other hyperparameters here\n",
        "cv = Cross_validation(10) # 10-fold cross-validation\n",
        "Xs, ys = cv.prepare_data(original_data)\n",
        "for lr in lrs:\n",
        "  print(\"---------------LEARNING RATE: \", lr, \"---------------\")\n",
        "  accu_train_avg, accu_val_avg = cv.get_accuracy(Xs, ys, lr)\n",
        "  print(\"---------------TRAIN AVERAGE ACCURACY\", accu_train_avg, \"---------------\")\n",
        "  print(\"---------------VALIDATION AVERAGE ACCURACY\", accu_val_avg, \"---------------\")\n",
        "  print(\"\\n-------------------------------------------------------------------------------\\n\")\n"
      ],
      "execution_count": null,
      "outputs": [
        {
          "output_type": "stream",
          "text": [
            "---------------LEARNING RATE:  1e-05 ---------------\n"
          ],
          "name": "stdout"
        },
        {
          "output_type": "stream",
          "text": [
            "/usr/local/lib/python3.6/dist-packages/ipykernel_launcher.py:3: RuntimeWarning: overflow encountered in exp\n",
            "  This is separate from the ipykernel package so we can avoid doing imports until\n"
          ],
          "name": "stderr"
        },
        {
          "output_type": "stream",
          "text": [
            "----------FOLD  1 ----------\n",
            "----Train----\n",
            "accuracy: 0.9382716049382716\n",
            "----Validation----\n",
            "accuracy: 0.93\n",
            "----------FOLD  2 ----------\n",
            "----Train----\n",
            "accuracy: 0.9439461883408071\n",
            "----Validation----\n",
            "accuracy: 0.9393939393939394\n",
            "----------FOLD  3 ----------\n",
            "----Train----\n",
            "accuracy: 0.9495515695067265\n",
            "----Validation----\n",
            "accuracy: 0.9696969696969697\n",
            "----------FOLD  4 ----------\n",
            "----Train----\n",
            "accuracy: 0.945067264573991\n",
            "----Validation----\n",
            "accuracy: 0.9191919191919192\n",
            "----------FOLD  5 ----------\n",
            "----Train----\n",
            "accuracy: 0.9506726457399103\n",
            "----Validation----\n",
            "accuracy: 0.9393939393939394\n",
            "----------FOLD  6 ----------\n",
            "----Train----\n",
            "accuracy: 0.9349775784753364\n",
            "----Validation----\n",
            "accuracy: 0.8787878787878788\n",
            "----------FOLD  7 ----------\n",
            "----Train----\n",
            "accuracy: 0.9428251121076233\n",
            "----Validation----\n",
            "accuracy: 0.9191919191919192\n",
            "----------FOLD  8 ----------\n",
            "----Train----\n",
            "accuracy: 0.9461883408071748\n",
            "----Validation----\n",
            "accuracy: 0.9494949494949495\n",
            "----------FOLD  9 ----------\n",
            "----Train----\n",
            "accuracy: 0.9540358744394619\n",
            "----Validation----\n",
            "accuracy: 0.9696969696969697\n",
            "----------FOLD  10 ----------\n",
            "----Train----\n",
            "accuracy: 0.9327354260089686\n",
            "----Validation----\n",
            "accuracy: 0.9191919191919192\n",
            "---------------TRAIN AVERAGE ACCURACY 0.9438271604938272 ---------------\n",
            "---------------VALIDATION AVERAGE ACCURACY 0.9334040404040402 ---------------\n",
            "\n",
            "-------------------------------------------------------------------------------\n",
            "\n",
            "---------------LEARNING RATE:  2.782559402207126e-05 ---------------\n",
            "----------FOLD  1 ----------\n",
            "----Train----\n",
            "accuracy: 0.9214365881032548\n",
            "----Validation----\n",
            "accuracy: 0.94\n",
            "----------FOLD  2 ----------\n",
            "----Train----\n",
            "accuracy: 0.9540358744394619\n",
            "----Validation----\n",
            "accuracy: 0.9292929292929293\n",
            "----------FOLD  3 ----------\n",
            "----Train----\n",
            "accuracy: 0.8576233183856502\n",
            "----Validation----\n",
            "accuracy: 0.9191919191919192\n",
            "----------FOLD  4 ----------\n",
            "----Train----\n",
            "accuracy: 0.9316143497757847\n",
            "----Validation----\n",
            "accuracy: 0.9090909090909091\n",
            "----------FOLD  5 ----------\n",
            "----Train----\n",
            "accuracy: 0.9573991031390134\n",
            "----Validation----\n",
            "accuracy: 0.9393939393939394\n",
            "----------FOLD  6 ----------\n",
            "----Train----\n",
            "accuracy: 0.9473094170403588\n",
            "----Validation----\n",
            "accuracy: 0.9393939393939394\n",
            "----------FOLD  7 ----------\n",
            "----Train----\n",
            "accuracy: 0.9439461883408071\n",
            "----Validation----\n",
            "accuracy: 0.9292929292929293\n",
            "----------FOLD  8 ----------\n",
            "----Train----\n",
            "accuracy: 0.9428251121076233\n",
            "----Validation----\n",
            "accuracy: 0.9494949494949495\n",
            "----------FOLD  9 ----------\n",
            "----Train----\n",
            "accuracy: 0.9136771300448431\n",
            "----Validation----\n",
            "accuracy: 0.9191919191919192\n",
            "----------FOLD  10 ----------\n",
            "----Train----\n",
            "accuracy: 0.9473094170403588\n",
            "----Validation----\n",
            "accuracy: 0.9292929292929293\n",
            "---------------TRAIN AVERAGE ACCURACY 0.9317176498417157 ---------------\n",
            "---------------VALIDATION AVERAGE ACCURACY 0.9303636363636363 ---------------\n",
            "\n",
            "-------------------------------------------------------------------------------\n",
            "\n",
            "---------------LEARNING RATE:  7.742636826811278e-05 ---------------\n",
            "----------FOLD  1 ----------\n",
            "----Train----\n",
            "accuracy: 0.9382716049382716\n",
            "----Validation----\n",
            "accuracy: 0.94\n",
            "----------FOLD  2 ----------\n",
            "----Train----\n",
            "accuracy: 0.9428251121076233\n",
            "----Validation----\n",
            "accuracy: 0.9393939393939394\n",
            "----------FOLD  3 ----------\n",
            "----Train----\n",
            "accuracy: 0.9204035874439462\n",
            "----Validation----\n",
            "accuracy: 0.9595959595959596\n",
            "----------FOLD  4 ----------\n",
            "----Train----\n",
            "accuracy: 0.9517937219730942\n",
            "----Validation----\n",
            "accuracy: 0.9797979797979798\n",
            "----------FOLD  5 ----------\n",
            "----Train----\n",
            "accuracy: 0.9405829596412556\n",
            "----Validation----\n",
            "accuracy: 0.9393939393939394\n",
            "----------FOLD  6 ----------\n",
            "----Train----\n",
            "accuracy: 0.9349775784753364\n",
            "----Validation----\n",
            "accuracy: 0.8888888888888888\n",
            "----------FOLD  7 ----------\n",
            "----Train----\n",
            "accuracy: 0.9394618834080718\n",
            "----Validation----\n",
            "accuracy: 0.898989898989899\n",
            "----------FOLD  8 ----------\n",
            "----Train----\n",
            "accuracy: 0.8766816143497758\n",
            "----Validation----\n",
            "accuracy: 0.8585858585858586\n",
            "----------FOLD  9 ----------\n",
            "----Train----\n",
            "accuracy: 0.945067264573991\n",
            "----Validation----\n",
            "accuracy: 0.9595959595959596\n",
            "----------FOLD  10 ----------\n",
            "----Train----\n",
            "accuracy: 0.945067264573991\n",
            "----Validation----\n",
            "accuracy: 0.9292929292929293\n",
            "---------------TRAIN AVERAGE ACCURACY 0.9335132591485357 ---------------\n",
            "---------------VALIDATION AVERAGE ACCURACY 0.9293535353535354 ---------------\n",
            "\n",
            "-------------------------------------------------------------------------------\n",
            "\n",
            "---------------LEARNING RATE:  0.00021544346900318823 ---------------\n",
            "----------FOLD  1 ----------\n",
            "----Train----\n",
            "accuracy: 0.9517396184062851\n",
            "----Validation----\n",
            "accuracy: 0.97\n",
            "----------FOLD  2 ----------\n",
            "----Train----\n",
            "accuracy: 0.945067264573991\n",
            "----Validation----\n",
            "accuracy: 0.9393939393939394\n",
            "----------FOLD  3 ----------\n",
            "----Train----\n",
            "accuracy: 0.9125560538116592\n",
            "----Validation----\n",
            "accuracy: 0.9494949494949495\n",
            "----------FOLD  4 ----------\n",
            "----Train----\n",
            "accuracy: 0.922645739910314\n",
            "----Validation----\n",
            "accuracy: 0.9191919191919192\n",
            "----------FOLD  5 ----------\n",
            "----Train----\n",
            "accuracy: 0.9484304932735426\n",
            "----Validation----\n",
            "accuracy: 0.9494949494949495\n",
            "----------FOLD  6 ----------\n",
            "----Train----\n",
            "accuracy: 0.9439461883408071\n",
            "----Validation----\n",
            "accuracy: 0.8888888888888888\n",
            "----------FOLD  7 ----------\n",
            "----Train----\n",
            "accuracy: 0.9551569506726457\n",
            "----Validation----\n",
            "accuracy: 0.9393939393939394\n",
            "----------FOLD  8 ----------\n",
            "----Train----\n",
            "accuracy: 0.9316143497757847\n",
            "----Validation----\n",
            "accuracy: 0.9595959595959596\n",
            "----------FOLD  9 ----------\n",
            "----Train----\n",
            "accuracy: 0.9349775784753364\n",
            "----Validation----\n",
            "accuracy: 0.9393939393939394\n",
            "----------FOLD  10 ----------\n",
            "----Train----\n",
            "accuracy: 0.9248878923766816\n",
            "----Validation----\n",
            "accuracy: 0.9393939393939394\n",
            "---------------TRAIN AVERAGE ACCURACY 0.9371022129617048 ---------------\n",
            "---------------VALIDATION AVERAGE ACCURACY 0.9394242424242425 ---------------\n",
            "\n",
            "-------------------------------------------------------------------------------\n",
            "\n",
            "---------------LEARNING RATE:  0.0005994842503189409 ---------------\n",
            "----------FOLD  1 ----------\n",
            "----Train----\n",
            "accuracy: 0.9427609427609428\n",
            "----Validation----\n",
            "accuracy: 0.94\n",
            "----------FOLD  2 ----------\n",
            "----Train----\n",
            "accuracy: 0.945067264573991\n",
            "----Validation----\n",
            "accuracy: 0.9393939393939394\n",
            "----------FOLD  3 ----------\n",
            "----Train----\n",
            "accuracy: 0.945067264573991\n",
            "----Validation----\n",
            "accuracy: 0.9191919191919192\n",
            "----------FOLD  4 ----------\n",
            "----Train----\n",
            "accuracy: 0.875560538116592\n",
            "----Validation----\n",
            "accuracy: 0.8383838383838383\n",
            "----------FOLD  5 ----------\n",
            "----Train----\n",
            "accuracy: 0.9540358744394619\n",
            "----Validation----\n",
            "accuracy: 0.9494949494949495\n",
            "----------FOLD  6 ----------\n",
            "----Train----\n",
            "accuracy: 0.952914798206278\n",
            "----Validation----\n",
            "accuracy: 0.9292929292929293\n",
            "----------FOLD  7 ----------\n",
            "----Train----\n",
            "accuracy: 0.9204035874439462\n",
            "----Validation----\n",
            "accuracy: 0.8888888888888888\n",
            "----------FOLD  8 ----------\n",
            "----Train----\n",
            "accuracy: 0.9237668161434978\n",
            "----Validation----\n",
            "accuracy: 0.9595959595959596\n",
            "----------FOLD  9 ----------\n",
            "----Train----\n",
            "accuracy: 0.8811659192825112\n",
            "----Validation----\n",
            "accuracy: 0.898989898989899\n",
            "----------FOLD  10 ----------\n",
            "----Train----\n",
            "accuracy: 0.9585201793721974\n",
            "----Validation----\n",
            "accuracy: 0.9292929292929293\n",
            "---------------TRAIN AVERAGE ACCURACY 0.9299263184913409 ---------------\n",
            "---------------VALIDATION AVERAGE ACCURACY 0.9192525252525252 ---------------\n",
            "\n",
            "-------------------------------------------------------------------------------\n",
            "\n",
            "---------------LEARNING RATE:  0.0016681005372000592 ---------------\n",
            "----------FOLD  1 ----------\n",
            "----Train----\n",
            "accuracy: 0.8821548821548821\n",
            "----Validation----\n",
            "accuracy: 0.92\n",
            "----------FOLD  2 ----------\n",
            "----Train----\n",
            "accuracy: 0.9428251121076233\n",
            "----Validation----\n",
            "accuracy: 0.9393939393939394\n",
            "----------FOLD  3 ----------\n",
            "----Train----\n",
            "accuracy: 0.945067264573991\n",
            "----Validation----\n",
            "accuracy: 0.9292929292929293\n",
            "----------FOLD  4 ----------\n",
            "----Train----\n",
            "accuracy: 0.9260089686098655\n",
            "----Validation----\n",
            "accuracy: 0.9494949494949495\n",
            "----------FOLD  5 ----------\n",
            "----Train----\n",
            "accuracy: 0.9607623318385651\n",
            "----Validation----\n",
            "accuracy: 0.9494949494949495\n",
            "----------FOLD  6 ----------\n",
            "----Train----\n",
            "accuracy: 0.9585201793721974\n",
            "----Validation----\n",
            "accuracy: 0.9090909090909091\n",
            "----------FOLD  7 ----------\n",
            "----Train----\n",
            "accuracy: 0.9506726457399103\n",
            "----Validation----\n",
            "accuracy: 0.9292929292929293\n",
            "----------FOLD  8 ----------\n",
            "----Train----\n",
            "accuracy: 0.9349775784753364\n",
            "----Validation----\n",
            "accuracy: 0.9292929292929293\n",
            "----------FOLD  9 ----------\n",
            "----Train----\n",
            "accuracy: 0.8721973094170403\n",
            "----Validation----\n",
            "accuracy: 0.898989898989899\n",
            "----------FOLD  10 ----------\n",
            "----Train----\n",
            "accuracy: 0.9461883408071748\n",
            "----Validation----\n",
            "accuracy: 0.9191919191919192\n",
            "---------------TRAIN AVERAGE ACCURACY 0.9319374613096588 ---------------\n",
            "---------------VALIDATION AVERAGE ACCURACY 0.9273535353535353 ---------------\n",
            "\n",
            "-------------------------------------------------------------------------------\n",
            "\n",
            "---------------LEARNING RATE:  0.004641588833612777 ---------------\n",
            "----------FOLD  1 ----------\n",
            "----Train----\n",
            "accuracy: 0.9450056116722784\n",
            "----Validation----\n",
            "accuracy: 0.96\n",
            "----------FOLD  2 ----------\n",
            "----Train----\n",
            "accuracy: 0.9540358744394619\n",
            "----Validation----\n",
            "accuracy: 0.9393939393939394\n",
            "----------FOLD  3 ----------\n",
            "----Train----\n",
            "accuracy: 0.9405829596412556\n",
            "----Validation----\n",
            "accuracy: 0.9191919191919192\n",
            "----------FOLD  4 ----------\n",
            "----Train----\n",
            "accuracy: 0.945067264573991\n",
            "----Validation----\n",
            "accuracy: 0.9494949494949495\n",
            "----------FOLD  5 ----------\n",
            "----Train----\n",
            "accuracy: 0.952914798206278\n",
            "----Validation----\n",
            "accuracy: 0.9494949494949495\n",
            "----------FOLD  6 ----------\n",
            "----Train----\n",
            "accuracy: 0.9192825112107623\n",
            "----Validation----\n",
            "accuracy: 0.8787878787878788\n",
            "----------FOLD  7 ----------\n",
            "----Train----\n",
            "accuracy: 0.9484304932735426\n",
            "----Validation----\n",
            "accuracy: 0.9090909090909091\n",
            "----------FOLD  8 ----------\n",
            "----Train----\n",
            "accuracy: 0.9035874439461884\n",
            "----Validation----\n",
            "accuracy: 0.8787878787878788\n",
            "----------FOLD  9 ----------\n",
            "----Train----\n",
            "accuracy: 0.9461883408071748\n",
            "----Validation----\n",
            "accuracy: 0.9494949494949495\n",
            "----------FOLD  10 ----------\n",
            "----Train----\n",
            "accuracy: 0.9506726457399103\n",
            "----Validation----\n",
            "accuracy: 0.9292929292929293\n",
            "---------------TRAIN AVERAGE ACCURACY 0.9405767943510843 ---------------\n",
            "---------------VALIDATION AVERAGE ACCURACY 0.9263030303030302 ---------------\n",
            "\n",
            "-------------------------------------------------------------------------------\n",
            "\n",
            "---------------LEARNING RATE:  0.012915496650148827 ---------------\n",
            "----------FOLD  1 ----------\n",
            "----Train----\n",
            "accuracy: 0.936026936026936\n",
            "----Validation----\n",
            "accuracy: 0.93\n",
            "----------FOLD  2 ----------\n",
            "----Train----\n",
            "accuracy: 0.9360986547085202\n",
            "----Validation----\n",
            "accuracy: 0.9393939393939394\n",
            "----------FOLD  3 ----------\n",
            "----Train----\n",
            "accuracy: 0.9260089686098655\n",
            "----Validation----\n",
            "accuracy: 0.9595959595959596\n",
            "----------FOLD  4 ----------\n",
            "----Train----\n",
            "accuracy: 0.945067264573991\n",
            "----Validation----\n",
            "accuracy: 0.9292929292929293\n",
            "----------FOLD  5 ----------\n",
            "----Train----\n",
            "accuracy: 0.9114349775784754\n",
            "----Validation----\n",
            "accuracy: 0.9292929292929293\n",
            "----------FOLD  6 ----------\n",
            "----Train----\n",
            "accuracy: 0.9551569506726457\n",
            "----Validation----\n",
            "accuracy: 0.9393939393939394\n",
            "----------FOLD  7 ----------\n",
            "----Train----\n",
            "accuracy: 0.8934977578475336\n",
            "----Validation----\n",
            "accuracy: 0.8383838383838383\n",
            "----------FOLD  8 ----------\n",
            "----Train----\n",
            "accuracy: 0.9260089686098655\n",
            "----Validation----\n",
            "accuracy: 0.898989898989899\n",
            "----------FOLD  9 ----------\n",
            "----Train----\n",
            "accuracy: 0.952914798206278\n",
            "----Validation----\n",
            "accuracy: 0.9696969696969697\n",
            "----------FOLD  10 ----------\n",
            "----Train----\n",
            "accuracy: 0.9428251121076233\n",
            "----Validation----\n",
            "accuracy: 0.9191919191919192\n",
            "---------------TRAIN AVERAGE ACCURACY 0.9325040388941735 ---------------\n",
            "---------------VALIDATION AVERAGE ACCURACY 0.9253232323232323 ---------------\n",
            "\n",
            "-------------------------------------------------------------------------------\n",
            "\n",
            "---------------LEARNING RATE:  0.03593813663804626 ---------------\n",
            "----------FOLD  1 ----------\n",
            "----Train----\n",
            "accuracy: 0.936026936026936\n",
            "----Validation----\n",
            "accuracy: 0.93\n",
            "----------FOLD  2 ----------\n",
            "----Train----\n",
            "accuracy: 0.945067264573991\n",
            "----Validation----\n",
            "accuracy: 0.9393939393939394\n",
            "----------FOLD  3 ----------\n",
            "----Train----\n",
            "accuracy: 0.945067264573991\n",
            "----Validation----\n",
            "accuracy: 0.9292929292929293\n",
            "----------FOLD  4 ----------\n",
            "----Train----\n",
            "accuracy: 0.9372197309417041\n",
            "----Validation----\n",
            "accuracy: 0.9494949494949495\n",
            "----------FOLD  5 ----------\n",
            "----Train----\n",
            "accuracy: 0.9417040358744395\n",
            "----Validation----\n",
            "accuracy: 0.9393939393939394\n",
            "----------FOLD  6 ----------\n",
            "----Train----\n",
            "accuracy: 0.9540358744394619\n",
            "----Validation----\n",
            "accuracy: 0.9393939393939394\n",
            "----------FOLD  7 ----------\n",
            "----Train----\n",
            "accuracy: 0.9506726457399103\n",
            "----Validation----\n",
            "accuracy: 0.9393939393939394\n",
            "----------FOLD  8 ----------\n",
            "----Train----\n",
            "accuracy: 0.9316143497757847\n",
            "----Validation----\n",
            "accuracy: 0.9595959595959596\n",
            "----------FOLD  9 ----------\n",
            "----Train----\n",
            "accuracy: 0.899103139013453\n",
            "----Validation----\n",
            "accuracy: 0.9090909090909091\n",
            "----------FOLD  10 ----------\n",
            "----Train----\n",
            "accuracy: 0.9473094170403588\n",
            "----Validation----\n",
            "accuracy: 0.9191919191919192\n",
            "---------------TRAIN AVERAGE ACCURACY 0.9387820658000031 ---------------\n",
            "---------------VALIDATION AVERAGE ACCURACY 0.9354242424242424 ---------------\n",
            "\n",
            "-------------------------------------------------------------------------------\n",
            "\n",
            "---------------LEARNING RATE:  0.1 ---------------\n",
            "----------FOLD  1 ----------\n",
            "----Train----\n",
            "accuracy: 0.9393939393939394\n",
            "----Validation----\n",
            "accuracy: 0.93\n",
            "----------FOLD  2 ----------\n",
            "----Train----\n",
            "accuracy: 0.9417040358744395\n",
            "----Validation----\n",
            "accuracy: 0.9393939393939394\n",
            "----------FOLD  3 ----------\n",
            "----Train----\n",
            "accuracy: 0.9372197309417041\n",
            "----Validation----\n",
            "accuracy: 0.9595959595959596\n",
            "----------FOLD  4 ----------\n",
            "----Train----\n",
            "accuracy: 0.9484304932735426\n",
            "----Validation----\n",
            "accuracy: 0.9292929292929293\n",
            "----------FOLD  5 ----------\n",
            "----Train----\n",
            "accuracy: 0.9506726457399103\n",
            "----Validation----\n",
            "accuracy: 0.9494949494949495\n",
            "----------FOLD  6 ----------\n",
            "----Train----\n",
            "accuracy: 0.9551569506726457\n",
            "----Validation----\n",
            "accuracy: 0.9393939393939394\n",
            "----------FOLD  7 ----------\n",
            "----Train----\n",
            "accuracy: 0.9428251121076233\n",
            "----Validation----\n",
            "accuracy: 0.9292929292929293\n",
            "----------FOLD  8 ----------\n",
            "----Train----\n",
            "accuracy: 0.8665919282511211\n",
            "----Validation----\n",
            "accuracy: 0.8484848484848485\n",
            "----------FOLD  9 ----------\n",
            "----Train----\n",
            "accuracy: 0.9540358744394619\n",
            "----Validation----\n",
            "accuracy: 0.9696969696969697\n",
            "----------FOLD  10 ----------\n",
            "----Train----\n",
            "accuracy: 0.9495515695067265\n",
            "----Validation----\n",
            "accuracy: 0.9292929292929293\n",
            "---------------TRAIN AVERAGE ACCURACY 0.9385582280201114 ---------------\n",
            "---------------VALIDATION AVERAGE ACCURACY 0.9323939393939392 ---------------\n",
            "\n",
            "-------------------------------------------------------------------------------\n",
            "\n"
          ],
          "name": "stdout"
        }
      ]
    },
    {
      "cell_type": "markdown",
      "metadata": {
        "id": "X9tX0BHqIfsy"
      },
      "source": [
        "## Experiment with different features\n",
        "\n",
        "During the experiment on different learning rates, we found that the best learning rate is **0.0002154**, so we use this learning rate for our experiment with different feature selections. "
      ]
    },
    {
      "cell_type": "code",
      "metadata": {
        "id": "hPPRiALdIj2V",
        "colab": {
          "base_uri": "https://localhost:8080/"
        },
        "outputId": "baf80984-5943-4525-df5b-f5a0e792f45b"
      },
      "source": [
        "lr = 0.0002154\n",
        "cv = Cross_validation(10) # 10-fold cross-validation\n",
        "Xs, ys = cv.prepare_data(NorDataset)\n",
        "print(\"----------Using normalized features, without new features----------\")\n",
        "accu_avg_train, accu_avg_val = cv.get_accuracy(Xs, ys, lr)\n",
        "print(\"----------AVERAGE ACCURACY\", accu_avg_val, \"----------\")\n",
        "print(\"\\n---------------------------------------------------------------------\")\n"
      ],
      "execution_count": null,
      "outputs": [
        {
          "output_type": "stream",
          "text": [
            "----------Using normalized features, without new features----------\n",
            "----------FOLD  1 ----------\n",
            "----Train----\n",
            "accuracy: 0.9640852974186308\n",
            "----Validation----\n",
            "accuracy: 0.95\n",
            "----------FOLD  2 ----------\n",
            "----Train----\n",
            "accuracy: 0.9618834080717489\n",
            "----Validation----\n",
            "accuracy: 0.9494949494949495\n",
            "----------FOLD  3 ----------\n",
            "----Train----\n",
            "accuracy: 0.9573991031390134\n",
            "----Validation----\n",
            "accuracy: 0.9292929292929293\n",
            "----------FOLD  4 ----------\n",
            "----Train----\n",
            "accuracy: 0.9708520179372198\n",
            "----Validation----\n",
            "accuracy: 0.9191919191919192\n",
            "----------FOLD  5 ----------\n",
            "----Train----\n",
            "accuracy: 0.9551569506726457\n",
            "----Validation----\n",
            "accuracy: 0.9494949494949495\n",
            "----------FOLD  6 ----------\n",
            "----Train----\n",
            "accuracy: 0.9585201793721974\n",
            "----Validation----\n",
            "accuracy: 0.9595959595959596\n"
          ],
          "name": "stdout"
        },
        {
          "output_type": "stream",
          "text": [
            "/usr/local/lib/python3.6/dist-packages/ipykernel_launcher.py:3: RuntimeWarning: overflow encountered in exp\n",
            "  This is separate from the ipykernel package so we can avoid doing imports until\n"
          ],
          "name": "stderr"
        },
        {
          "output_type": "stream",
          "text": [
            "----------FOLD  7 ----------\n",
            "----Train----\n",
            "accuracy: 0.952914798206278\n",
            "----Validation----\n",
            "accuracy: 0.9393939393939394\n",
            "----------FOLD  8 ----------\n",
            "----Train----\n",
            "accuracy: 0.9540358744394619\n",
            "----Validation----\n",
            "accuracy: 0.98989898989899\n",
            "----------FOLD  9 ----------\n",
            "----Train----\n",
            "accuracy: 0.9674887892376681\n",
            "----Validation----\n",
            "accuracy: 0.9191919191919192\n",
            "----------FOLD  10 ----------\n",
            "----Train----\n",
            "accuracy: 0.9495515695067265\n",
            "----Validation----\n",
            "accuracy: 0.9494949494949495\n",
            "----------AVERAGE ACCURACY 0.9455050505050506 ----------\n",
            "\n",
            "---------------------------------------------------------------------\n"
          ],
          "name": "stdout"
        }
      ]
    },
    {
      "cell_type": "code",
      "metadata": {
        "id": "z5HstgXSJ8rx",
        "colab": {
          "base_uri": "https://localhost:8080/"
        },
        "outputId": "ba0ea468-9f65-49a8-96eb-9751fed28df1"
      },
      "source": [
        "lr = 0.0002154\n",
        "cv = Cross_validation(10) # 5-fold cross-validation\n",
        "Xs, ys = cv.prepare_data(NorDatasetNew)\n",
        "print(\"----------Using normalized features, with new features----------\")\n",
        "accu_avg_train, accu_avg_val = cv.get_accuracy(Xs, ys, lr)\n",
        "print(\"----------AVERAGE ACCURACY\", accu_avg_val, \"----------\")\n",
        "print(\"\\n---------------------------------------------------------------------\")\n"
      ],
      "execution_count": null,
      "outputs": [
        {
          "output_type": "stream",
          "text": [
            "----------Using normalized features, with new features----------\n",
            "----------FOLD  1 ----------\n",
            "----Train----\n",
            "accuracy: 0.9607182940516273\n",
            "----Validation----\n",
            "accuracy: 0.95\n",
            "----------FOLD  2 ----------\n",
            "----Train----\n",
            "accuracy: 0.9573991031390134\n",
            "----Validation----\n",
            "accuracy: 0.9696969696969697\n",
            "----------FOLD  3 ----------\n",
            "----Train----\n",
            "accuracy: 0.9573991031390134\n",
            "----Validation----\n",
            "accuracy: 0.9393939393939394\n",
            "----------FOLD  4 ----------\n",
            "----Train----\n",
            "accuracy: 0.9618834080717489\n",
            "----Validation----\n",
            "accuracy: 0.9494949494949495\n",
            "----------FOLD  5 ----------\n",
            "----Train----\n",
            "accuracy: 0.9596412556053812\n",
            "----Validation----\n",
            "accuracy: 0.9393939393939394\n",
            "----------FOLD  6 ----------\n",
            "----Train----\n",
            "accuracy: 0.9585201793721974\n",
            "----Validation----\n",
            "accuracy: 0.9494949494949495\n",
            "----------FOLD  7 ----------\n",
            "----Train----\n",
            "accuracy: 0.9618834080717489\n",
            "----Validation----\n",
            "accuracy: 0.9494949494949495\n",
            "----------FOLD  8 ----------\n",
            "----Train----\n",
            "accuracy: 0.9573991031390134\n",
            "----Validation----\n",
            "accuracy: 0.9696969696969697\n",
            "----------FOLD  9 ----------\n",
            "----Train----\n",
            "accuracy: 0.9652466367713004\n",
            "----Validation----\n",
            "accuracy: 0.9292929292929293\n",
            "----------FOLD  10 ----------\n",
            "----Train----\n",
            "accuracy: 0.9630044843049327\n",
            "----Validation----\n",
            "accuracy: 0.9292929292929293\n",
            "----------AVERAGE ACCURACY 0.9475252525252525 ----------\n",
            "\n",
            "---------------------------------------------------------------------\n"
          ],
          "name": "stdout"
        }
      ]
    },
    {
      "cell_type": "markdown",
      "metadata": {
        "id": "9jSYRgbudHMP"
      },
      "source": [
        "## Measure the run time\n",
        "See whether the model converges faster on normalized data than on original data. This is measured by training the model and time it. This part stands on its own, and is not related to any of the above process"
      ]
    },
    {
      "cell_type": "markdown",
      "metadata": {
        "id": "WrGEPixJmmcc"
      },
      "source": [
        "This model class is almost the same as the one before. The only difference is that this model **does not have early stopping**, which can interfere with our timing. Also, this model is only for timing the training process, so it only has a 'fit' method\n",
        "\n",
        "**Should we run this? Should we have early stopping or not?**"
      ]
    },
    {
      "cell_type": "code",
      "metadata": {
        "id": "SX_eJLxHmX08"
      },
      "source": [
        "class Logistic_regression():\n",
        "  def __init__(self):\n",
        "    pass\n",
        "    \n",
        "  # training\n",
        "  def fit(self,X_train,y_train,learning_rate):\n",
        "    #n,m = np.shape(self.X_train)\n",
        "    n,m = np.shape(X_train)  \n",
        "    wk = np.ones([m+1,1]) # wk weights, initialized with 1\n",
        "    wk1 = np.zeros([m+1,1])# wk+1 weights,initialized with 0          \n",
        "    itrnum = 500       # max number of iterations \n",
        "    e = 0.001\n",
        "    der = 0\n",
        "    for k in range(0,itrnum):\n",
        "      for i in range(0,n):\n",
        "        #xi = self.X_train[i].T\n",
        "        xi = X_train[i].T\n",
        "        x0 = np.array([1])\n",
        "        xi = np.concatenate((xi, x0),axis = 0)\n",
        "        #yi = self.y_train[i]\n",
        "        yi = y_train[i]\n",
        "        der = der-xi*(yi-sigmoid(np.matmul(wk[:,0].T,xi))) # take derivative w.r.t w\n",
        "      #wk1[:,0] = wk[:,0]-self.learning_rate*der       # update rule\n",
        "      wk1[:,0] = wk[:,0]-learning_rate*der       # update rule\n",
        "      # if (np.linalg.norm(wk1[:,0]-wk[:,0]))**2<e:         \n",
        "      #   break \n",
        "      # else:\n",
        "      wk = wk1.copy()\n",
        "    return wk1"
      ],
      "execution_count": 25,
      "outputs": []
    },
    {
      "cell_type": "markdown",
      "metadata": {
        "id": "rhONMhAxkuC7"
      },
      "source": [
        "###Using the original dataset"
      ]
    },
    {
      "cell_type": "code",
      "metadata": {
        "id": "7T-jHRpsdgHZ"
      },
      "source": [
        "model = Logistic_regression()\n",
        "np.random.shuffle(original_data)\n",
        "X = original_data[:, :-1]  # features\n",
        "y = original_data[:, -1]   # labels"
      ],
      "execution_count": 26,
      "outputs": []
    },
    {
      "cell_type": "code",
      "metadata": {
        "colab": {
          "base_uri": "https://localhost:8080/"
        },
        "id": "IKriES7le0Pz",
        "outputId": "513ab8b8-9e24-43ef-c9d9-c5a910a9de8f"
      },
      "source": [
        "%%timeit\n",
        "w = model.fit(X, y, learning_rate=0.00001)"
      ],
      "execution_count": 27,
      "outputs": [
        {
          "output_type": "stream",
          "text": [
            "/usr/local/lib/python3.6/dist-packages/ipykernel_launcher.py:3: RuntimeWarning: overflow encountered in exp\n",
            "  This is separate from the ipykernel package so we can avoid doing imports until\n"
          ],
          "name": "stderr"
        },
        {
          "output_type": "stream",
          "text": [
            "1 loop, best of 3: 7.81 s per loop\n"
          ],
          "name": "stdout"
        }
      ]
    },
    {
      "cell_type": "code",
      "metadata": {
        "colab": {
          "base_uri": "https://localhost:8080/"
        },
        "id": "zZ39ltUkkZJj",
        "outputId": "6ba9f828-bca4-42ef-abf7-7fee420cc79b"
      },
      "source": [
        "%%timeit\n",
        "w = model.fit(X, y, learning_rate=0.001)"
      ],
      "execution_count": 28,
      "outputs": [
        {
          "output_type": "stream",
          "text": [
            "/usr/local/lib/python3.6/dist-packages/ipykernel_launcher.py:3: RuntimeWarning: overflow encountered in exp\n",
            "  This is separate from the ipykernel package so we can avoid doing imports until\n"
          ],
          "name": "stderr"
        },
        {
          "output_type": "stream",
          "text": [
            "1 loop, best of 3: 8.46 s per loop\n"
          ],
          "name": "stdout"
        }
      ]
    },
    {
      "cell_type": "code",
      "metadata": {
        "colab": {
          "base_uri": "https://localhost:8080/"
        },
        "id": "DoZ_UQERkn5U",
        "outputId": "8a9de706-ece7-4567-8106-dd686d52f22e"
      },
      "source": [
        "%%timeit\n",
        "w = model.fit(X, y, learning_rate=0.01)"
      ],
      "execution_count": 29,
      "outputs": [
        {
          "output_type": "stream",
          "text": [
            "/usr/local/lib/python3.6/dist-packages/ipykernel_launcher.py:3: RuntimeWarning: overflow encountered in exp\n",
            "  This is separate from the ipykernel package so we can avoid doing imports until\n"
          ],
          "name": "stderr"
        },
        {
          "output_type": "stream",
          "text": [
            "1 loop, best of 3: 8.56 s per loop\n"
          ],
          "name": "stdout"
        }
      ]
    },
    {
      "cell_type": "markdown",
      "metadata": {
        "id": "9aCwwb-clC5m"
      },
      "source": [
        "###Using normalized features"
      ]
    },
    {
      "cell_type": "code",
      "metadata": {
        "id": "iyOcmreeith4"
      },
      "source": [
        "model = Logistic_regression()\n",
        "np.random.shuffle(NorDataset)\n",
        "X = NorDataset[:, :-1]  # features\n",
        "y = NorDataset[:, -1]   # labels"
      ],
      "execution_count": 30,
      "outputs": []
    },
    {
      "cell_type": "code",
      "metadata": {
        "id": "WrPg4E1ti1iV",
        "colab": {
          "base_uri": "https://localhost:8080/"
        },
        "outputId": "2c09125e-5225-48f6-c3bc-8704a25b6df9"
      },
      "source": [
        "%%timeit\n",
        "w = model.fit(X, y, learning_rate=0.00001)"
      ],
      "execution_count": 31,
      "outputs": [
        {
          "output_type": "stream",
          "text": [
            "1 loop, best of 3: 7.59 s per loop\n"
          ],
          "name": "stdout"
        }
      ]
    },
    {
      "cell_type": "code",
      "metadata": {
        "colab": {
          "base_uri": "https://localhost:8080/"
        },
        "id": "oePKiDuLlyNs",
        "outputId": "951f6c64-5fe1-46a6-e120-ec83f9365d57"
      },
      "source": [
        "%%timeit\n",
        "w = model.fit(X, y, learning_rate=0.001)"
      ],
      "execution_count": 32,
      "outputs": [
        {
          "output_type": "stream",
          "text": [
            "/usr/local/lib/python3.6/dist-packages/ipykernel_launcher.py:3: RuntimeWarning: overflow encountered in exp\n",
            "  This is separate from the ipykernel package so we can avoid doing imports until\n"
          ],
          "name": "stderr"
        },
        {
          "output_type": "stream",
          "text": [
            "1 loop, best of 3: 7.74 s per loop\n"
          ],
          "name": "stdout"
        }
      ]
    },
    {
      "cell_type": "code",
      "metadata": {
        "colab": {
          "base_uri": "https://localhost:8080/"
        },
        "id": "44s_vMSPlyNs",
        "outputId": "e9c998bc-f750-49a8-a2b2-8533820527d3"
      },
      "source": [
        "%%timeit\n",
        "w = model.fit(X, y, learning_rate=0.01)"
      ],
      "execution_count": 33,
      "outputs": [
        {
          "output_type": "stream",
          "text": [
            "/usr/local/lib/python3.6/dist-packages/ipykernel_launcher.py:3: RuntimeWarning: overflow encountered in exp\n",
            "  This is separate from the ipykernel package so we can avoid doing imports until\n"
          ],
          "name": "stderr"
        },
        {
          "output_type": "stream",
          "text": [
            "1 loop, best of 3: 8.15 s per loop\n"
          ],
          "name": "stdout"
        }
      ]
    }
  ]
}