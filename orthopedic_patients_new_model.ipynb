{
  "nbformat": 4,
  "nbformat_minor": 0,
  "metadata": {
    "colab": {
      "name": "ECSE01_2_10.ipynb",
      "provenance": [],
      "collapsed_sections": [],
      "include_colab_link": true
    },
    "kernelspec": {
      "name": "python3",
      "display_name": "Python 3"
    }
  },
  "cells": [
    {
      "cell_type": "markdown",
      "metadata": {
        "id": "view-in-github",
        "colab_type": "text"
      },
      "source": [
        "<a href=\"https://colab.research.google.com/github/jwang44/Try-colabing-in-colab/blob/main/orthopedic_patients_new_model.ipynb\" target=\"_parent\"><img src=\"https://colab.research.google.com/assets/colab-badge.svg\" alt=\"Open In Colab\"/></a>"
      ]
    },
    {
      "cell_type": "markdown",
      "metadata": {
        "id": "W0NkwhApnnJk"
      },
      "source": [
        "# ECSE 551 Mini-project 1\n",
        "*Group 10: Junhao Wang, Yinan Zhou, and Ruilin Ji*\n",
        "\n",
        "This notebook is dedicated for the **Orthopedic patients dataset**, including the model, cross validation, and various experiment. "
      ]
    },
    {
      "cell_type": "markdown",
      "metadata": {
        "id": "t3nM6IIOBf0A"
      },
      "source": [
        "## Start here"
      ]
    },
    {
      "cell_type": "code",
      "metadata": {
        "colab": {
          "base_uri": "https://localhost:8080/"
        },
        "id": "oskj54Fv8eGB",
        "outputId": "63c7addb-e00e-40eb-a4c5-e51bd10b6600"
      },
      "source": [
        "from google.colab import drive\n",
        "drive.mount('/content/drive')"
      ],
      "execution_count": 1,
      "outputs": [
        {
          "output_type": "stream",
          "text": [
            "Drive already mounted at /content/drive; to attempt to forcibly remount, call drive.mount(\"/content/drive\", force_remount=True).\n"
          ],
          "name": "stdout"
        }
      ]
    },
    {
      "cell_type": "code",
      "metadata": {
        "id": "nrLPT4OTIt5v",
        "colab": {
          "base_uri": "https://localhost:8080/"
        },
        "outputId": "ed6de0f5-2caf-44ef-e292-b62d5147046a"
      },
      "source": [
        "%cd \"/content/drive/My Drive/\""
      ],
      "execution_count": 2,
      "outputs": [
        {
          "output_type": "stream",
          "text": [
            "/content/drive/My Drive\n"
          ],
          "name": "stdout"
        }
      ]
    },
    {
      "cell_type": "code",
      "metadata": {
        "id": "2LFoqVsWOP14"
      },
      "source": [
        "import numpy as np\r\n",
        "import pandas as pd\r\n",
        "import scipy.stats\r\n",
        "import statistics"
      ],
      "execution_count": 3,
      "outputs": []
    },
    {
      "cell_type": "markdown",
      "metadata": {
        "id": "g1gREIMPzw7M"
      },
      "source": [
        "## Orthopedic Patients Dataset"
      ]
    },
    {
      "cell_type": "code",
      "metadata": {
        "id": "oQ-nyMGN0pKx"
      },
      "source": [
        "# generate new feature by multiplication and normalize\r\n",
        "def newfeature(x,y):\r\n",
        "  z=x*y\r\n",
        "  norz=scipy.stats.zscore(z, axis=0, ddof=0, nan_policy='propagate')\r\n",
        "  return norz"
      ],
      "execution_count": 4,
      "outputs": []
    },
    {
      "cell_type": "code",
      "metadata": {
        "id": "rc7bhCtyW17b"
      },
      "source": [
        "# convert csv to dataframe\n",
        "df = pd.read_csv('orthopedic_patients.csv')\n",
        "original_data = df.to_numpy()"
      ],
      "execution_count": 5,
      "outputs": []
    },
    {
      "cell_type": "code",
      "metadata": {
        "id": "Ybt1JT3h0JpU"
      },
      "source": [
        "# normalize feature\r\n",
        "NorData = scipy.stats.zscore(df.iloc[:,:-1], axis=0, ddof=0, nan_policy='propagate')\r\n",
        "# normalized dataset\r\n",
        "NorDataset = np.column_stack((NorData, df['Class']))\r\n",
        "# np.savetxt('normalized_orthopedic_patients.csv', NorPatientData, delimiter=',')"
      ],
      "execution_count": 6,
      "outputs": []
    },
    {
      "cell_type": "markdown",
      "metadata": {
        "id": "6oDHjN7u0rbT"
      },
      "source": [
        "New feature"
      ]
    },
    {
      "cell_type": "code",
      "metadata": {
        "id": "drHfVd9v2elN"
      },
      "source": [
        "# new feature\r\n",
        "NewF = newfeature(df.pelvic_incidence, df.sacral_slope)\r\n",
        "# normalized dataset with new feature\r\n",
        "NorDatasetNew = np.column_stack((NorData,NewF,df['Class']))"
      ],
      "execution_count": 7,
      "outputs": []
    },
    {
      "cell_type": "markdown",
      "metadata": {
        "id": "TwnmcLuQsdWb"
      },
      "source": [
        "## The model"
      ]
    },
    {
      "cell_type": "code",
      "metadata": {
        "id": "IYrl86Dhy9jy"
      },
      "source": [
        "# sigmoid function\n",
        "def sigmoid(a):\n",
        "  return 1/(1+np.exp(-a))\n",
        "\n",
        "class Logistic_regression():\n",
        "  def __init__(self):#,X_train,y_train,learning_rate,X_test,y_test):\n",
        "    pass\n",
        "    \n",
        "  # training\n",
        "  def fit(self,X_train,y_train,learning_rate):\n",
        "    #n,m = np.shape(self.X_train)\n",
        "    n,m = np.shape(X_train)  \n",
        "    wk = np.ones([m+1,1]) # wk weights, initialized with 1\n",
        "    wk1 = np.zeros([m+1,1])# wk+1 weights,initialized with 0          \n",
        "    itrnum = 500       # max number of iterations \n",
        "    e = 0.001\n",
        "    der = 0\n",
        "    for k in range(0,itrnum):\n",
        "      for i in range(0,n):\n",
        "        #xi = self.X_train[i].T\n",
        "        xi = X_train[i].T\n",
        "        x0 = np.array([1])\n",
        "        xi = np.concatenate((xi, x0),axis = 0)\n",
        "        #yi = self.y_train[i]\n",
        "        yi = y_train[i]\n",
        "        der = der-xi*(yi-sigmoid(np.matmul(wk[:,0].T,xi))) # take derivative w.r.t w\n",
        "      #wk1[:,0] = wk[:,0]-self.learning_rate*der       # update rule\n",
        "      wk1[:,0] = wk[:,0]-learning_rate*der       # update rule\n",
        "      if (np.linalg.norm(wk1[:,0]-wk[:,0]))**2<e:         \n",
        "        break \n",
        "      else:\n",
        "        wk = wk1.copy()\n",
        "    return wk1\n",
        "  \n",
        "  # validation\n",
        "  def predict(self,w,X_test):\n",
        "    #n,m = np.shape(self.X_test)\n",
        "    n,m = np.shape(X_test)   \n",
        "    y_predict = np.zeros([n,1])\n",
        "    for i in range(0,n):\n",
        "      #xi = self.X_test[i].T\n",
        "      xi = X_test[i].T\n",
        "      x0 = np.array([1])\n",
        "      xi = np.concatenate((xi, x0),axis = 0)\n",
        "      p1 = sigmoid(np.matmul(w.T,xi)) # calculate probabilities p(y=1|x)\n",
        "      # covert probabilities to 0 or 1 by thresholding at 0.5\n",
        "      if p1>=0.5:\n",
        "        y_predict[i] = 1\n",
        "      else:\n",
        "        y_predict[i] = 0\n",
        "    return y_predict\n",
        "\n",
        "  # evaluate accuracy\n",
        "  def Accu_eval(self,y_test,y_predict):\n",
        "    #y_predict = self.predict(X_test)\n",
        "    n,j = np.shape(y_predict)\n",
        "    TP = 0;FP = 0;TN = 0;FN = 0\n",
        "    # count TP,TN,FP,FN in validation set\n",
        "    '''for i in range(n):\n",
        "      if  self.y_test[i]==1 and y_predict[i]==1:\n",
        "        TP = TP+1\n",
        "      elif self.y_test[i]==0 and y_predict[i]==0:\n",
        "        TN = TN+1\n",
        "      elif self.y_test[i]==0 and y_predict[i]==1:\n",
        "        FP = FP+1\n",
        "      elif self.y_test[i]==1 and y_predict[i]==0:\n",
        "        FN = FN+1'''\n",
        "    for i in range(n):\n",
        "      if  y_test[i]==1 and y_predict[i]==1:\n",
        "        TP = TP+1\n",
        "      elif y_test[i]==0 and y_predict[i]==0:\n",
        "        TN = TN+1\n",
        "      elif y_test[i]==0 and y_predict[i]==1:\n",
        "        FP = FP+1\n",
        "      elif y_test[i]==1 and y_predict[i]==0:\n",
        "        FN = FN+1    \n",
        "    accuracy = (TP+TN)/(TP+TN+FP+FN)\n",
        "    # precision = TP/(TP+FP)\n",
        "    # recall = TP/(TP+FN)\n",
        "    # F = 2*precision*recall/(precision+recall)\n",
        "    # specificity = TN/(FP+TN)\n",
        "    # FPR = FP/(FP+TN)\n",
        "    print(\"accuracy:\",accuracy)\n",
        "    # print(\"precision:\",precision)\n",
        "    # print(\"recall:\",recall)\n",
        "    # print(\"F:\",F)\n",
        "    # print(\"specificity:\",specificity)\n",
        "    # print(\"False Positive Rate:\",FPR)\n",
        "    print(\"\")\n",
        "    return accuracy\n",
        "    "
      ],
      "execution_count": 74,
      "outputs": []
    },
    {
      "cell_type": "markdown",
      "metadata": {
        "id": "-qAaqa2lsZhe"
      },
      "source": [
        "## Cross validation"
      ]
    },
    {
      "cell_type": "code",
      "metadata": {
        "id": "MhmGiMSZ7wqx"
      },
      "source": [
        "class Cross_validation():\n",
        "  def __init__(self, k):\n",
        "    # k: k-fold\n",
        "    self.k = k\n",
        "\n",
        "  def prepare_data(self, data):\n",
        "    # data: np array converted from csv\n",
        "    np.random.shuffle(data)\n",
        "    X = data[:, :-1]  # features\n",
        "    y = data[:, -1]   # labels\n",
        "\n",
        "    # split data into k equal segments, assign them to train and test later\n",
        "    Xs = np.array_split(X, self.k, axis=0)\n",
        "    ys = np.array_split(y, self.k, axis=0)\n",
        "    return Xs, ys\n",
        "\n",
        "  def get_accuracy(self, Xs, ys, lr):\n",
        "    accu_trains = []\n",
        "    accu_tests = []\n",
        "    for i in range(self.k):\n",
        "      X_cv = Xs[:] # X_cross_validation\n",
        "      y_cv = ys[:] # y_cross_validation\n",
        "\n",
        "      X_test = X_cv.pop(i)\n",
        "      y_test = y_cv.pop(i)\n",
        "\n",
        "      X_train = np.concatenate(X_cv)\n",
        "      y_train = np.concatenate(y_cv)\n",
        "\n",
        "      model = Logistic_regression()\n",
        "      w = model.fit(X_train, y_train, lr)\n",
        "\n",
        "      print(\"----------FOLD \", i+1, \"----------\")\n",
        "\n",
        "      print(\"----Train----\")\n",
        "      y_predict_train = model.predict(w, X_train)\n",
        "      accu_train = model.Accu_eval(y_train, y_predict_train)\n",
        "      accu_trains.append(accu_train)\n",
        "\n",
        "      print(\"----Validation----\")\n",
        "      y_predict_test = model.predict(w, X_test)\n",
        "      accu_test = model.Accu_eval(y_test, y_predict_test)\n",
        "      accu_tests.append(accu_test)\n",
        "\n",
        "    return np.mean(accu_trains), np.mean(accu_tests)\n"
      ],
      "execution_count": 9,
      "outputs": []
    },
    {
      "cell_type": "markdown",
      "metadata": {
        "id": "IK8uhC3hsReE"
      },
      "source": [
        "## Experiment with different learning rates"
      ]
    },
    {
      "cell_type": "code",
      "metadata": {
        "colab": {
          "base_uri": "https://localhost:8080/"
        },
        "id": "fx0mwWWwXuMs",
        "outputId": "8aff16dc-3924-484f-b710-9242356f58f2"
      },
      "source": [
        "lrs = np.logspace(-5, -1, 10) # different learning rates to try\n",
        "cv = Cross_validation(10) # 10-fold cross-validation\n",
        "Xs, ys = cv.prepare_data(NorDataset)\n",
        "for lr in lrs:\n",
        "  print(\"---------------LEARNING RATE: \", lr, \"---------------\")\n",
        "  accu_train_avg, accu_val_avg = cv.get_accuracy(Xs, ys, lr)\n",
        "  print(\"---------------TRAIN AVERAGE ACCURACY\", accu_train_avg, \"---------------\")\n",
        "  print(\"---------------VALIDATION AVERAGE ACCURACY\", accu_val_avg, \"---------------\")\n",
        "  print(\"\\n-------------------------------------------------------------------------------\\n\")\n"
      ],
      "execution_count": 19,
      "outputs": [
        {
          "output_type": "stream",
          "text": [
            "---------------LEARNING RATE:  1e-05 ---------------\n",
            "----------FOLD  1 ----------\n",
            "----Train----\n",
            "accuracy: 0.34050179211469533\n",
            "\n",
            "----Validation----\n",
            "accuracy: 0.3870967741935484\n",
            "\n",
            "----------FOLD  2 ----------\n",
            "----Train----\n",
            "accuracy: 0.34767025089605735\n",
            "\n",
            "----Validation----\n",
            "accuracy: 0.3225806451612903\n",
            "\n",
            "----------FOLD  3 ----------\n",
            "----Train----\n",
            "accuracy: 0.34408602150537637\n",
            "\n",
            "----Validation----\n",
            "accuracy: 0.3548387096774194\n",
            "\n",
            "----------FOLD  4 ----------\n",
            "----Train----\n",
            "accuracy: 0.3333333333333333\n",
            "\n",
            "----Validation----\n",
            "accuracy: 0.45161290322580644\n",
            "\n",
            "----------FOLD  5 ----------\n",
            "----Train----\n",
            "accuracy: 0.3333333333333333\n",
            "\n",
            "----Validation----\n",
            "accuracy: 0.45161290322580644\n",
            "\n",
            "----------FOLD  6 ----------\n",
            "----Train----\n",
            "accuracy: 0.3333333333333333\n",
            "\n",
            "----Validation----\n",
            "accuracy: 0.45161290322580644\n",
            "\n",
            "----------FOLD  7 ----------\n",
            "----Train----\n",
            "accuracy: 0.34767025089605735\n",
            "\n",
            "----Validation----\n",
            "accuracy: 0.3225806451612903\n",
            "\n",
            "----------FOLD  8 ----------\n",
            "----Train----\n",
            "accuracy: 0.35842293906810035\n",
            "\n",
            "----Validation----\n",
            "accuracy: 0.22580645161290322\n",
            "\n",
            "----------FOLD  9 ----------\n",
            "----Train----\n",
            "accuracy: 0.3548387096774194\n",
            "\n",
            "----Validation----\n",
            "accuracy: 0.25806451612903225\n",
            "\n",
            "----------FOLD  10 ----------\n",
            "----Train----\n",
            "accuracy: 0.35842293906810035\n",
            "\n",
            "----Validation----\n",
            "accuracy: 0.22580645161290322\n",
            "\n",
            "---------------TRAIN AVERAGE ACCURACY 0.34516129032258064 ---------------\n",
            "---------------VALIDATION AVERAGE ACCURACY 0.3451612903225806 ---------------\n",
            "\n",
            "-------------------------------------------------------------------------------\n",
            "\n",
            "---------------LEARNING RATE:  2.782559402207126e-05 ---------------\n",
            "----------FOLD  1 ----------\n",
            "----Train----\n",
            "accuracy: 0.34050179211469533\n",
            "\n",
            "----Validation----\n",
            "accuracy: 0.3870967741935484\n",
            "\n",
            "----------FOLD  2 ----------\n",
            "----Train----\n",
            "accuracy: 0.34767025089605735\n",
            "\n",
            "----Validation----\n",
            "accuracy: 0.3225806451612903\n",
            "\n",
            "----------FOLD  3 ----------\n",
            "----Train----\n",
            "accuracy: 0.34408602150537637\n",
            "\n",
            "----Validation----\n",
            "accuracy: 0.3548387096774194\n",
            "\n",
            "----------FOLD  4 ----------\n",
            "----Train----\n",
            "accuracy: 0.3333333333333333\n",
            "\n",
            "----Validation----\n",
            "accuracy: 0.45161290322580644\n",
            "\n",
            "----------FOLD  5 ----------\n",
            "----Train----\n",
            "accuracy: 0.3333333333333333\n",
            "\n",
            "----Validation----\n",
            "accuracy: 0.45161290322580644\n",
            "\n",
            "----------FOLD  6 ----------\n",
            "----Train----\n",
            "accuracy: 0.3333333333333333\n",
            "\n",
            "----Validation----\n",
            "accuracy: 0.45161290322580644\n",
            "\n",
            "----------FOLD  7 ----------\n",
            "----Train----\n",
            "accuracy: 0.34767025089605735\n",
            "\n",
            "----Validation----\n",
            "accuracy: 0.3225806451612903\n",
            "\n",
            "----------FOLD  8 ----------\n",
            "----Train----\n",
            "accuracy: 0.35842293906810035\n",
            "\n",
            "----Validation----\n",
            "accuracy: 0.22580645161290322\n",
            "\n",
            "----------FOLD  9 ----------\n",
            "----Train----\n",
            "accuracy: 0.3548387096774194\n",
            "\n",
            "----Validation----\n",
            "accuracy: 0.25806451612903225\n",
            "\n",
            "----------FOLD  10 ----------\n",
            "----Train----\n",
            "accuracy: 0.35842293906810035\n",
            "\n",
            "----Validation----\n",
            "accuracy: 0.22580645161290322\n",
            "\n",
            "---------------TRAIN AVERAGE ACCURACY 0.34516129032258064 ---------------\n",
            "---------------VALIDATION AVERAGE ACCURACY 0.3451612903225806 ---------------\n",
            "\n",
            "-------------------------------------------------------------------------------\n",
            "\n",
            "---------------LEARNING RATE:  7.742636826811278e-05 ---------------\n",
            "----------FOLD  1 ----------\n",
            "----Train----\n",
            "accuracy: 0.34050179211469533\n",
            "\n",
            "----Validation----\n",
            "accuracy: 0.3870967741935484\n",
            "\n",
            "----------FOLD  2 ----------\n",
            "----Train----\n",
            "accuracy: 0.35125448028673834\n",
            "\n",
            "----Validation----\n",
            "accuracy: 0.3225806451612903\n",
            "\n",
            "----------FOLD  3 ----------\n",
            "----Train----\n",
            "accuracy: 0.34767025089605735\n",
            "\n",
            "----Validation----\n",
            "accuracy: 0.3548387096774194\n",
            "\n",
            "----------FOLD  4 ----------\n",
            "----Train----\n",
            "accuracy: 0.3333333333333333\n",
            "\n",
            "----Validation----\n",
            "accuracy: 0.45161290322580644\n",
            "\n",
            "----------FOLD  5 ----------\n",
            "----Train----\n",
            "accuracy: 0.33691756272401435\n",
            "\n",
            "----Validation----\n",
            "accuracy: 0.45161290322580644\n",
            "\n",
            "----------FOLD  6 ----------\n",
            "----Train----\n",
            "accuracy: 0.33691756272401435\n",
            "\n",
            "----Validation----\n",
            "accuracy: 0.45161290322580644\n",
            "\n",
            "----------FOLD  7 ----------\n",
            "----Train----\n",
            "accuracy: 0.34767025089605735\n",
            "\n",
            "----Validation----\n",
            "accuracy: 0.3548387096774194\n",
            "\n",
            "----------FOLD  8 ----------\n",
            "----Train----\n",
            "accuracy: 0.35842293906810035\n",
            "\n",
            "----Validation----\n",
            "accuracy: 0.22580645161290322\n",
            "\n",
            "----------FOLD  9 ----------\n",
            "----Train----\n",
            "accuracy: 0.35842293906810035\n",
            "\n",
            "----Validation----\n",
            "accuracy: 0.25806451612903225\n",
            "\n",
            "----------FOLD  10 ----------\n",
            "----Train----\n",
            "accuracy: 0.35842293906810035\n",
            "\n",
            "----Validation----\n",
            "accuracy: 0.22580645161290322\n",
            "\n",
            "---------------TRAIN AVERAGE ACCURACY 0.34695340501792116 ---------------\n",
            "---------------VALIDATION AVERAGE ACCURACY 0.3483870967741935 ---------------\n",
            "\n",
            "-------------------------------------------------------------------------------\n",
            "\n",
            "---------------LEARNING RATE:  0.00021544346900318823 ---------------\n"
          ],
          "name": "stdout"
        },
        {
          "output_type": "stream",
          "text": [
            "/usr/local/lib/python3.6/dist-packages/ipykernel_launcher.py:3: RuntimeWarning: overflow encountered in exp\n",
            "  This is separate from the ipykernel package so we can avoid doing imports until\n"
          ],
          "name": "stderr"
        },
        {
          "output_type": "stream",
          "text": [
            "----------FOLD  1 ----------\n",
            "----Train----\n",
            "accuracy: 0.8637992831541219\n",
            "\n",
            "----Validation----\n",
            "accuracy: 0.9354838709677419\n",
            "\n",
            "----------FOLD  2 ----------\n",
            "----Train----\n",
            "accuracy: 0.8781362007168458\n",
            "\n",
            "----Validation----\n",
            "accuracy: 0.7741935483870968\n",
            "\n",
            "----------FOLD  3 ----------\n",
            "----Train----\n",
            "accuracy: 0.8673835125448028\n",
            "\n",
            "----Validation----\n",
            "accuracy: 0.9354838709677419\n",
            "\n",
            "----------FOLD  4 ----------\n",
            "----Train----\n",
            "accuracy: 0.8494623655913979\n",
            "\n",
            "----Validation----\n",
            "accuracy: 0.8064516129032258\n",
            "\n",
            "----------FOLD  5 ----------\n",
            "----Train----\n",
            "accuracy: 0.8566308243727598\n",
            "\n",
            "----Validation----\n",
            "accuracy: 0.7419354838709677\n",
            "\n",
            "----------FOLD  6 ----------\n",
            "----Train----\n",
            "accuracy: 0.8602150537634409\n",
            "\n",
            "----Validation----\n",
            "accuracy: 0.8709677419354839\n",
            "\n",
            "----------FOLD  7 ----------\n",
            "----Train----\n",
            "accuracy: 0.8637992831541219\n",
            "\n",
            "----Validation----\n",
            "accuracy: 0.9032258064516129\n",
            "\n",
            "----------FOLD  8 ----------\n",
            "----Train----\n",
            "accuracy: 0.8530465949820788\n",
            "\n",
            "----Validation----\n",
            "accuracy: 0.7741935483870968\n",
            "\n",
            "----------FOLD  9 ----------\n",
            "----Train----\n",
            "accuracy: 0.8673835125448028\n",
            "\n",
            "----Validation----\n",
            "accuracy: 0.8709677419354839\n",
            "\n",
            "----------FOLD  10 ----------\n",
            "----Train----\n",
            "accuracy: 0.8637992831541219\n",
            "\n",
            "----Validation----\n",
            "accuracy: 0.7741935483870968\n",
            "\n",
            "---------------TRAIN AVERAGE ACCURACY 0.8623655913978496 ---------------\n",
            "---------------VALIDATION AVERAGE ACCURACY 0.8387096774193548 ---------------\n",
            "\n",
            "-------------------------------------------------------------------------------\n",
            "\n",
            "---------------LEARNING RATE:  0.0005994842503189409 ---------------\n",
            "----------FOLD  1 ----------\n",
            "----Train----\n",
            "accuracy: 0.8387096774193549\n",
            "\n",
            "----Validation----\n",
            "accuracy: 0.9354838709677419\n",
            "\n",
            "----------FOLD  2 ----------\n",
            "----Train----\n",
            "accuracy: 0.8637992831541219\n",
            "\n",
            "----Validation----\n",
            "accuracy: 0.7419354838709677\n",
            "\n",
            "----------FOLD  3 ----------\n",
            "----Train----\n",
            "accuracy: 0.8602150537634409\n",
            "\n",
            "----Validation----\n",
            "accuracy: 0.9032258064516129\n",
            "\n",
            "----------FOLD  4 ----------\n",
            "----Train----\n",
            "accuracy: 0.8530465949820788\n",
            "\n",
            "----Validation----\n",
            "accuracy: 0.9354838709677419\n",
            "\n",
            "----------FOLD  5 ----------\n",
            "----Train----\n",
            "accuracy: 0.8602150537634409\n",
            "\n",
            "----Validation----\n",
            "accuracy: 0.7096774193548387\n",
            "\n",
            "----------FOLD  6 ----------\n",
            "----Train----\n",
            "accuracy: 0.8566308243727598\n",
            "\n",
            "----Validation----\n",
            "accuracy: 0.7419354838709677\n",
            "\n",
            "----------FOLD  7 ----------\n",
            "----Train----\n",
            "accuracy: 0.8530465949820788\n",
            "\n",
            "----Validation----\n",
            "accuracy: 0.9032258064516129\n",
            "\n",
            "----------FOLD  8 ----------\n",
            "----Train----\n",
            "accuracy: 0.8494623655913979\n",
            "\n",
            "----Validation----\n",
            "accuracy: 0.7096774193548387\n",
            "\n",
            "----------FOLD  9 ----------\n",
            "----Train----\n",
            "accuracy: 0.8602150537634409\n",
            "\n",
            "----Validation----\n",
            "accuracy: 0.9032258064516129\n",
            "\n",
            "----------FOLD  10 ----------\n",
            "----Train----\n",
            "accuracy: 0.8458781362007168\n",
            "\n",
            "----Validation----\n",
            "accuracy: 0.8064516129032258\n",
            "\n",
            "---------------TRAIN AVERAGE ACCURACY 0.8541218637992831 ---------------\n",
            "---------------VALIDATION AVERAGE ACCURACY 0.829032258064516 ---------------\n",
            "\n",
            "-------------------------------------------------------------------------------\n",
            "\n",
            "---------------LEARNING RATE:  0.0016681005372000592 ---------------\n",
            "----------FOLD  1 ----------\n",
            "----Train----\n",
            "accuracy: 0.8566308243727598\n",
            "\n",
            "----Validation----\n",
            "accuracy: 0.9354838709677419\n",
            "\n",
            "----------FOLD  2 ----------\n",
            "----Train----\n",
            "accuracy: 0.8458781362007168\n",
            "\n",
            "----Validation----\n",
            "accuracy: 0.7741935483870968\n",
            "\n",
            "----------FOLD  3 ----------\n",
            "----Train----\n",
            "accuracy: 0.8387096774193549\n",
            "\n",
            "----Validation----\n",
            "accuracy: 0.9354838709677419\n",
            "\n",
            "----------FOLD  4 ----------\n",
            "----Train----\n",
            "accuracy: 0.8673835125448028\n",
            "\n",
            "----Validation----\n",
            "accuracy: 0.9032258064516129\n",
            "\n",
            "----------FOLD  5 ----------\n",
            "----Train----\n",
            "accuracy: 0.8064516129032258\n",
            "\n",
            "----Validation----\n",
            "accuracy: 0.7096774193548387\n",
            "\n",
            "----------FOLD  6 ----------\n",
            "----Train----\n",
            "accuracy: 0.8602150537634409\n",
            "\n",
            "----Validation----\n",
            "accuracy: 0.9032258064516129\n",
            "\n",
            "----------FOLD  7 ----------\n",
            "----Train----\n",
            "accuracy: 0.8602150537634409\n",
            "\n",
            "----Validation----\n",
            "accuracy: 0.8387096774193549\n",
            "\n",
            "----------FOLD  8 ----------\n",
            "----Train----\n",
            "accuracy: 0.8494623655913979\n",
            "\n",
            "----Validation----\n",
            "accuracy: 0.7419354838709677\n",
            "\n",
            "----------FOLD  9 ----------\n",
            "----Train----\n",
            "accuracy: 0.8494623655913979\n",
            "\n",
            "----Validation----\n",
            "accuracy: 0.9354838709677419\n",
            "\n",
            "----------FOLD  10 ----------\n",
            "----Train----\n",
            "accuracy: 0.7956989247311828\n",
            "\n",
            "----Validation----\n",
            "accuracy: 0.7096774193548387\n",
            "\n",
            "---------------TRAIN AVERAGE ACCURACY 0.843010752688172 ---------------\n",
            "---------------VALIDATION AVERAGE ACCURACY 0.8387096774193548 ---------------\n",
            "\n",
            "-------------------------------------------------------------------------------\n",
            "\n",
            "---------------LEARNING RATE:  0.004641588833612777 ---------------\n",
            "----------FOLD  1 ----------\n",
            "----Train----\n",
            "accuracy: 0.7060931899641577\n",
            "\n",
            "----Validation----\n",
            "accuracy: 0.6129032258064516\n",
            "\n",
            "----------FOLD  2 ----------\n",
            "----Train----\n",
            "accuracy: 0.8673835125448028\n",
            "\n",
            "----Validation----\n",
            "accuracy: 0.7419354838709677\n",
            "\n",
            "----------FOLD  3 ----------\n",
            "----Train----\n",
            "accuracy: 0.7634408602150538\n",
            "\n",
            "----Validation----\n",
            "accuracy: 0.9032258064516129\n",
            "\n",
            "----------FOLD  4 ----------\n",
            "----Train----\n",
            "accuracy: 0.7634408602150538\n",
            "\n",
            "----Validation----\n",
            "accuracy: 0.8387096774193549\n",
            "\n",
            "----------FOLD  5 ----------\n",
            "----Train----\n",
            "accuracy: 0.8566308243727598\n",
            "\n",
            "----Validation----\n",
            "accuracy: 0.8064516129032258\n",
            "\n",
            "----------FOLD  6 ----------\n",
            "----Train----\n",
            "accuracy: 0.8243727598566308\n",
            "\n",
            "----Validation----\n",
            "accuracy: 0.8064516129032258\n",
            "\n",
            "----------FOLD  7 ----------\n",
            "----Train----\n",
            "accuracy: 0.8422939068100358\n",
            "\n",
            "----Validation----\n",
            "accuracy: 0.8709677419354839\n",
            "\n",
            "----------FOLD  8 ----------\n",
            "----Train----\n",
            "accuracy: 0.8817204301075269\n",
            "\n",
            "----Validation----\n",
            "accuracy: 0.8064516129032258\n",
            "\n",
            "----------FOLD  9 ----------\n",
            "----Train----\n",
            "accuracy: 0.8100358422939068\n",
            "\n",
            "----Validation----\n",
            "accuracy: 0.8709677419354839\n",
            "\n",
            "----------FOLD  10 ----------\n",
            "----Train----\n",
            "accuracy: 0.8817204301075269\n",
            "\n",
            "----Validation----\n",
            "accuracy: 0.7741935483870968\n",
            "\n",
            "---------------TRAIN AVERAGE ACCURACY 0.8197132616487455 ---------------\n",
            "---------------VALIDATION AVERAGE ACCURACY 0.8032258064516128 ---------------\n",
            "\n",
            "-------------------------------------------------------------------------------\n",
            "\n",
            "---------------LEARNING RATE:  0.012915496650148827 ---------------\n",
            "----------FOLD  1 ----------\n",
            "----Train----\n",
            "accuracy: 0.8530465949820788\n",
            "\n",
            "----Validation----\n",
            "accuracy: 0.9354838709677419\n",
            "\n",
            "----------FOLD  2 ----------\n",
            "----Train----\n",
            "accuracy: 0.8602150537634409\n",
            "\n",
            "----Validation----\n",
            "accuracy: 0.7419354838709677\n",
            "\n",
            "----------FOLD  3 ----------\n",
            "----Train----\n",
            "accuracy: 0.8673835125448028\n",
            "\n",
            "----Validation----\n",
            "accuracy: 0.8387096774193549\n",
            "\n",
            "----------FOLD  4 ----------\n",
            "----Train----\n",
            "accuracy: 0.8458781362007168\n",
            "\n",
            "----Validation----\n",
            "accuracy: 0.9354838709677419\n",
            "\n",
            "----------FOLD  5 ----------\n",
            "----Train----\n",
            "accuracy: 0.8458781362007168\n",
            "\n",
            "----Validation----\n",
            "accuracy: 0.8709677419354839\n",
            "\n",
            "----------FOLD  6 ----------\n",
            "----Train----\n",
            "accuracy: 0.8566308243727598\n",
            "\n",
            "----Validation----\n",
            "accuracy: 0.9032258064516129\n",
            "\n",
            "----------FOLD  7 ----------\n",
            "----Train----\n",
            "accuracy: 0.8279569892473119\n",
            "\n",
            "----Validation----\n",
            "accuracy: 0.9032258064516129\n",
            "\n",
            "----------FOLD  8 ----------\n",
            "----Train----\n",
            "accuracy: 0.7956989247311828\n",
            "\n",
            "----Validation----\n",
            "accuracy: 0.8709677419354839\n",
            "\n",
            "----------FOLD  9 ----------\n",
            "----Train----\n",
            "accuracy: 0.8422939068100358\n",
            "\n",
            "----Validation----\n",
            "accuracy: 0.9354838709677419\n",
            "\n",
            "----------FOLD  10 ----------\n",
            "----Train----\n",
            "accuracy: 0.8602150537634409\n",
            "\n",
            "----Validation----\n",
            "accuracy: 0.7741935483870968\n",
            "\n",
            "---------------TRAIN AVERAGE ACCURACY 0.8455197132616487 ---------------\n",
            "---------------VALIDATION AVERAGE ACCURACY 0.8709677419354838 ---------------\n",
            "\n",
            "-------------------------------------------------------------------------------\n",
            "\n",
            "---------------LEARNING RATE:  0.03593813663804626 ---------------\n",
            "----------FOLD  1 ----------\n",
            "----Train----\n",
            "accuracy: 0.8494623655913979\n",
            "\n",
            "----Validation----\n",
            "accuracy: 0.9354838709677419\n",
            "\n",
            "----------FOLD  2 ----------\n",
            "----Train----\n",
            "accuracy: 0.8709677419354839\n",
            "\n",
            "----Validation----\n",
            "accuracy: 0.7419354838709677\n",
            "\n",
            "----------FOLD  3 ----------\n",
            "----Train----\n",
            "accuracy: 0.8530465949820788\n",
            "\n",
            "----Validation----\n",
            "accuracy: 0.8709677419354839\n",
            "\n",
            "----------FOLD  4 ----------\n",
            "----Train----\n",
            "accuracy: 0.8602150537634409\n",
            "\n",
            "----Validation----\n",
            "accuracy: 0.8387096774193549\n",
            "\n",
            "----------FOLD  5 ----------\n",
            "----Train----\n",
            "accuracy: 0.8387096774193549\n",
            "\n",
            "----Validation----\n",
            "accuracy: 0.9032258064516129\n",
            "\n",
            "----------FOLD  6 ----------\n",
            "----Train----\n",
            "accuracy: 0.8351254480286738\n",
            "\n",
            "----Validation----\n",
            "accuracy: 0.8709677419354839\n",
            "\n",
            "----------FOLD  7 ----------\n",
            "----Train----\n",
            "accuracy: 0.8566308243727598\n",
            "\n",
            "----Validation----\n",
            "accuracy: 0.8064516129032258\n",
            "\n",
            "----------FOLD  8 ----------\n",
            "----Train----\n",
            "accuracy: 0.8817204301075269\n",
            "\n",
            "----Validation----\n",
            "accuracy: 0.8387096774193549\n",
            "\n",
            "----------FOLD  9 ----------\n",
            "----Train----\n",
            "accuracy: 0.8781362007168458\n",
            "\n",
            "----Validation----\n",
            "accuracy: 0.9354838709677419\n",
            "\n",
            "----------FOLD  10 ----------\n",
            "----Train----\n",
            "accuracy: 0.8602150537634409\n",
            "\n",
            "----Validation----\n",
            "accuracy: 0.7741935483870968\n",
            "\n",
            "---------------TRAIN AVERAGE ACCURACY 0.8584229390681003 ---------------\n",
            "---------------VALIDATION AVERAGE ACCURACY 0.8516129032258064 ---------------\n",
            "\n",
            "-------------------------------------------------------------------------------\n",
            "\n",
            "---------------LEARNING RATE:  0.1 ---------------\n",
            "----------FOLD  1 ----------\n",
            "----Train----\n",
            "accuracy: 0.8602150537634409\n",
            "\n",
            "----Validation----\n",
            "accuracy: 0.9354838709677419\n",
            "\n",
            "----------FOLD  2 ----------\n",
            "----Train----\n",
            "accuracy: 0.8745519713261649\n",
            "\n",
            "----Validation----\n",
            "accuracy: 0.7419354838709677\n",
            "\n",
            "----------FOLD  3 ----------\n",
            "----Train----\n",
            "accuracy: 0.7706093189964157\n",
            "\n",
            "----Validation----\n",
            "accuracy: 0.6774193548387096\n",
            "\n",
            "----------FOLD  4 ----------\n",
            "----Train----\n",
            "accuracy: 0.8494623655913979\n",
            "\n",
            "----Validation----\n",
            "accuracy: 0.8709677419354839\n",
            "\n",
            "----------FOLD  5 ----------\n",
            "----Train----\n",
            "accuracy: 0.8422939068100358\n",
            "\n",
            "----Validation----\n",
            "accuracy: 0.8709677419354839\n",
            "\n",
            "----------FOLD  6 ----------\n",
            "----Train----\n",
            "accuracy: 0.8351254480286738\n",
            "\n",
            "----Validation----\n",
            "accuracy: 0.9032258064516129\n",
            "\n",
            "----------FOLD  7 ----------\n",
            "----Train----\n",
            "accuracy: 0.8530465949820788\n",
            "\n",
            "----Validation----\n",
            "accuracy: 0.8709677419354839\n",
            "\n",
            "----------FOLD  8 ----------\n",
            "----Train----\n",
            "accuracy: 0.7849462365591398\n",
            "\n",
            "----Validation----\n",
            "accuracy: 0.6129032258064516\n",
            "\n",
            "----------FOLD  9 ----------\n",
            "----Train----\n",
            "accuracy: 0.8494623655913979\n",
            "\n",
            "----Validation----\n",
            "accuracy: 0.9032258064516129\n",
            "\n",
            "----------FOLD  10 ----------\n",
            "----Train----\n",
            "accuracy: 0.7741935483870968\n",
            "\n",
            "----Validation----\n",
            "accuracy: 0.7419354838709677\n",
            "\n",
            "---------------TRAIN AVERAGE ACCURACY 0.829390681003584 ---------------\n",
            "---------------VALIDATION AVERAGE ACCURACY 0.8129032258064516 ---------------\n",
            "\n",
            "-------------------------------------------------------------------------------\n",
            "\n"
          ],
          "name": "stdout"
        }
      ]
    },
    {
      "cell_type": "markdown",
      "metadata": {
        "id": "cTvS3gB7C-_Y"
      },
      "source": [
        "## Experiment with different features\n",
        "\n",
        "During the experiment on different learning rates, we found that the best learning rate is **0.0129**, so we use this learning rate for our experiment with different feature selections. "
      ]
    },
    {
      "cell_type": "code",
      "metadata": {
        "id": "hPPRiALdIj2V",
        "colab": {
          "base_uri": "https://localhost:8080/"
        },
        "outputId": "0927758b-5830-4bc5-a61f-dad4d73e02d4"
      },
      "source": [
        "lr = 0.0129\n",
        "cv = Cross_validation(10) # 10-fold cross-validation\n",
        "Xs, ys = cv.prepare_data(NorDataset)\n",
        "print(\"----------Using normalized features, without new features----------\")\n",
        "accu_avg_train, accu_avg_val = cv.get_accuracy(Xs, ys, lr)\n",
        "print(\"----------AVERAGE ACCURACY\", accu_avg_val, \"----------\")\n",
        "print(\"\\n---------------------------------------------------------------------\")\n"
      ],
      "execution_count": 21,
      "outputs": [
        {
          "output_type": "stream",
          "text": [
            "----------Using normalized features, without new features----------\n"
          ],
          "name": "stdout"
        },
        {
          "output_type": "stream",
          "text": [
            "/usr/local/lib/python3.6/dist-packages/ipykernel_launcher.py:3: RuntimeWarning: overflow encountered in exp\n",
            "  This is separate from the ipykernel package so we can avoid doing imports until\n"
          ],
          "name": "stderr"
        },
        {
          "output_type": "stream",
          "text": [
            "----------FOLD  1 ----------\n",
            "----Train----\n",
            "accuracy: 0.8458781362007168\n",
            "\n",
            "----Validation----\n",
            "accuracy: 0.9032258064516129\n",
            "\n",
            "----------FOLD  2 ----------\n",
            "----Train----\n",
            "accuracy: 0.8351254480286738\n",
            "\n",
            "----Validation----\n",
            "accuracy: 0.8709677419354839\n",
            "\n",
            "----------FOLD  3 ----------\n",
            "----Train----\n",
            "accuracy: 0.8064516129032258\n",
            "\n",
            "----Validation----\n",
            "accuracy: 0.7096774193548387\n",
            "\n",
            "----------FOLD  4 ----------\n",
            "----Train----\n",
            "accuracy: 0.8494623655913979\n",
            "\n",
            "----Validation----\n",
            "accuracy: 0.967741935483871\n",
            "\n",
            "----------FOLD  5 ----------\n",
            "----Train----\n",
            "accuracy: 0.8351254480286738\n",
            "\n",
            "----Validation----\n",
            "accuracy: 0.8387096774193549\n",
            "\n",
            "----------FOLD  6 ----------\n",
            "----Train----\n",
            "accuracy: 0.8673835125448028\n",
            "\n",
            "----Validation----\n",
            "accuracy: 0.7419354838709677\n",
            "\n",
            "----------FOLD  7 ----------\n",
            "----Train----\n",
            "accuracy: 0.8494623655913979\n",
            "\n",
            "----Validation----\n",
            "accuracy: 0.9032258064516129\n",
            "\n",
            "----------FOLD  8 ----------\n",
            "----Train----\n",
            "accuracy: 0.8207885304659498\n",
            "\n",
            "----Validation----\n",
            "accuracy: 0.967741935483871\n",
            "\n",
            "----------FOLD  9 ----------\n",
            "----Train----\n",
            "accuracy: 0.8315412186379928\n",
            "\n",
            "----Validation----\n",
            "accuracy: 0.8064516129032258\n",
            "\n",
            "----------FOLD  10 ----------\n",
            "----Train----\n",
            "accuracy: 0.8566308243727598\n",
            "\n",
            "----Validation----\n",
            "accuracy: 0.9032258064516129\n",
            "\n",
            "----------AVERAGE ACCURACY 0.8612903225806452 ----------\n",
            "\n",
            "---------------------------------------------------------------------\n"
          ],
          "name": "stdout"
        }
      ]
    },
    {
      "cell_type": "code",
      "metadata": {
        "colab": {
          "base_uri": "https://localhost:8080/"
        },
        "id": "nc8SIJKiY5YX",
        "outputId": "621ce416-e2ff-4a8c-ad1c-3e5cabe3ff4d"
      },
      "source": [
        "lr = 0.0129\n",
        "cv = Cross_validation(10) # 10-fold cross-validation\n",
        "Xs, ys = cv.prepare_data(original_data)\n",
        "print(\"----------Using normalized features, with new features----------\")\n",
        "accu_avg_train, accu_avg_val = cv.get_accuracy(Xs, ys, lr)\n",
        "print(\"----------AVERAGE ACCURACY\", accu_avg_val, \"----------\")\n",
        "print(\"\\n---------------------------------------------------------------------\")\n"
      ],
      "execution_count": 22,
      "outputs": [
        {
          "output_type": "stream",
          "text": [
            "----------Using normalized features, with new features----------\n"
          ],
          "name": "stdout"
        },
        {
          "output_type": "stream",
          "text": [
            "/usr/local/lib/python3.6/dist-packages/ipykernel_launcher.py:3: RuntimeWarning: overflow encountered in exp\n",
            "  This is separate from the ipykernel package so we can avoid doing imports until\n"
          ],
          "name": "stderr"
        },
        {
          "output_type": "stream",
          "text": [
            "----------FOLD  1 ----------\n",
            "----Train----\n",
            "accuracy: 0.8100358422939068\n",
            "\n",
            "----Validation----\n",
            "accuracy: 0.7741935483870968\n",
            "\n",
            "----------FOLD  2 ----------\n",
            "----Train----\n",
            "accuracy: 0.7347670250896058\n",
            "\n",
            "----Validation----\n",
            "accuracy: 0.6129032258064516\n",
            "\n",
            "----------FOLD  3 ----------\n",
            "----Train----\n",
            "accuracy: 0.8136200716845878\n",
            "\n",
            "----Validation----\n",
            "accuracy: 0.7741935483870968\n",
            "\n",
            "----------FOLD  4 ----------\n",
            "----Train----\n",
            "accuracy: 0.7526881720430108\n",
            "\n",
            "----Validation----\n",
            "accuracy: 0.9354838709677419\n",
            "\n",
            "----------FOLD  5 ----------\n",
            "----Train----\n",
            "accuracy: 0.7885304659498208\n",
            "\n",
            "----Validation----\n",
            "accuracy: 0.8387096774193549\n",
            "\n",
            "----------FOLD  6 ----------\n",
            "----Train----\n",
            "accuracy: 0.7347670250896058\n",
            "\n",
            "----Validation----\n",
            "accuracy: 0.8064516129032258\n",
            "\n",
            "----------FOLD  7 ----------\n",
            "----Train----\n",
            "accuracy: 0.7670250896057348\n",
            "\n",
            "----Validation----\n",
            "accuracy: 0.7096774193548387\n",
            "\n",
            "----------FOLD  8 ----------\n",
            "----Train----\n",
            "accuracy: 0.8172043010752689\n",
            "\n",
            "----Validation----\n",
            "accuracy: 0.8387096774193549\n",
            "\n",
            "----------FOLD  9 ----------\n",
            "----Train----\n",
            "accuracy: 0.7777777777777778\n",
            "\n",
            "----Validation----\n",
            "accuracy: 0.8709677419354839\n",
            "\n",
            "----------FOLD  10 ----------\n",
            "----Train----\n",
            "accuracy: 0.7598566308243727\n",
            "\n",
            "----Validation----\n",
            "accuracy: 0.7096774193548387\n",
            "\n",
            "----------AVERAGE ACCURACY 0.7870967741935484 ----------\n",
            "\n",
            "---------------------------------------------------------------------\n"
          ],
          "name": "stdout"
        }
      ]
    },
    {
      "cell_type": "code",
      "metadata": {
        "id": "z5HstgXSJ8rx",
        "colab": {
          "base_uri": "https://localhost:8080/"
        },
        "outputId": "578b5cd5-ecdb-4ff0-80ed-2362692c2205"
      },
      "source": [
        "lr = 0.0129\n",
        "cv = Cross_validation(10) # 10-fold cross-validation\n",
        "Xs, ys = cv.prepare_data(NorDatasetNew)\n",
        "print(\"----------Using normalized features, with new features----------\")\n",
        "accu_avg_train, accu_avg_val = cv.get_accuracy(Xs, ys, lr)\n",
        "print(\"----------AVERAGE ACCURACY\", accu_avg_val, \"----------\")\n",
        "print(\"\\n---------------------------------------------------------------------\")\n"
      ],
      "execution_count": 23,
      "outputs": [
        {
          "output_type": "stream",
          "text": [
            "----------Using normalized features, with new features----------\n"
          ],
          "name": "stdout"
        },
        {
          "output_type": "stream",
          "text": [
            "/usr/local/lib/python3.6/dist-packages/ipykernel_launcher.py:3: RuntimeWarning: overflow encountered in exp\n",
            "  This is separate from the ipykernel package so we can avoid doing imports until\n"
          ],
          "name": "stderr"
        },
        {
          "output_type": "stream",
          "text": [
            "----------FOLD  1 ----------\n",
            "----Train----\n",
            "accuracy: 0.8387096774193549\n",
            "\n",
            "----Validation----\n",
            "accuracy: 0.8064516129032258\n",
            "\n",
            "----------FOLD  2 ----------\n",
            "----Train----\n",
            "accuracy: 0.8351254480286738\n",
            "\n",
            "----Validation----\n",
            "accuracy: 0.8387096774193549\n",
            "\n",
            "----------FOLD  3 ----------\n",
            "----Train----\n",
            "accuracy: 0.7992831541218638\n",
            "\n",
            "----Validation----\n",
            "accuracy: 0.8709677419354839\n",
            "\n",
            "----------FOLD  4 ----------\n",
            "----Train----\n",
            "accuracy: 0.8422939068100358\n",
            "\n",
            "----Validation----\n",
            "accuracy: 0.7419354838709677\n",
            "\n",
            "----------FOLD  5 ----------\n",
            "----Train----\n",
            "accuracy: 0.7921146953405018\n",
            "\n",
            "----Validation----\n",
            "accuracy: 0.8387096774193549\n",
            "\n",
            "----------FOLD  6 ----------\n",
            "----Train----\n",
            "accuracy: 0.8458781362007168\n",
            "\n",
            "----Validation----\n",
            "accuracy: 0.8387096774193549\n",
            "\n",
            "----------FOLD  7 ----------\n",
            "----Train----\n",
            "accuracy: 0.8243727598566308\n",
            "\n",
            "----Validation----\n",
            "accuracy: 0.9032258064516129\n",
            "\n",
            "----------FOLD  8 ----------\n",
            "----Train----\n",
            "accuracy: 0.8422939068100358\n",
            "\n",
            "----Validation----\n",
            "accuracy: 0.9032258064516129\n",
            "\n",
            "----------FOLD  9 ----------\n",
            "----Train----\n",
            "accuracy: 0.7992831541218638\n",
            "\n",
            "----Validation----\n",
            "accuracy: 0.8064516129032258\n",
            "\n",
            "----------FOLD  10 ----------\n",
            "----Train----\n",
            "accuracy: 0.8207885304659498\n",
            "\n",
            "----Validation----\n",
            "accuracy: 0.7419354838709677\n",
            "\n",
            "----------AVERAGE ACCURACY 0.8290322580645162 ----------\n",
            "\n",
            "---------------------------------------------------------------------\n"
          ],
          "name": "stdout"
        }
      ]
    },
    {
      "cell_type": "markdown",
      "metadata": {
        "id": "9jSYRgbudHMP"
      },
      "source": [
        "## Measure the run time\n",
        "See whether the model converges faster on normalized data than on original data. This is measured by training the model and time it. This part stands on its own, and is not related to any of the above process"
      ]
    },
    {
      "cell_type": "markdown",
      "metadata": {
        "id": "WrGEPixJmmcc"
      },
      "source": [
        "This model class is almost the same as the one before. The only difference is that this model **does not have early stopping**, which can interfere with our timing. Also, this model is only for timing the training process, so it only has a 'fit' method\n",
        "\n",
        "**Should we run this? Should we have early stopping or not?**"
      ]
    },
    {
      "cell_type": "code",
      "metadata": {
        "id": "SX_eJLxHmX08"
      },
      "source": [
        "class Logistic_regression():\n",
        "  def __init__(self):\n",
        "    pass\n",
        "    \n",
        "  # training\n",
        "  def fit(self,X_train,y_train,learning_rate):\n",
        "    #n,m = np.shape(self.X_train)\n",
        "    n,m = np.shape(X_train)  \n",
        "    wk = np.ones([m+1,1]) # wk weights, initialized with 1\n",
        "    wk1 = np.zeros([m+1,1])# wk+1 weights,initialized with 0          \n",
        "    itrnum = 500       # max number of iterations \n",
        "    e = 0.001\n",
        "    der = 0\n",
        "    for k in range(0,itrnum):\n",
        "      for i in range(0,n):\n",
        "        #xi = self.X_train[i].T\n",
        "        xi = X_train[i].T\n",
        "        x0 = np.array([1])\n",
        "        xi = np.concatenate((xi, x0),axis = 0)\n",
        "        #yi = self.y_train[i]\n",
        "        yi = y_train[i]\n",
        "        der = der-xi*(yi-sigmoid(np.matmul(wk[:,0].T,xi))) # take derivative w.r.t w\n",
        "      #wk1[:,0] = wk[:,0]-self.learning_rate*der       # update rule\n",
        "      wk1[:,0] = wk[:,0]-learning_rate*der       # update rule\n",
        "      # if (np.linalg.norm(wk1[:,0]-wk[:,0]))**2<e:         \n",
        "      #   break \n",
        "      # else:\n",
        "      wk = wk1.copy()\n",
        "    return wk1"
      ],
      "execution_count": 57,
      "outputs": []
    },
    {
      "cell_type": "markdown",
      "metadata": {
        "id": "rhONMhAxkuC7"
      },
      "source": [
        "###Using the original dataset"
      ]
    },
    {
      "cell_type": "code",
      "metadata": {
        "id": "7T-jHRpsdgHZ"
      },
      "source": [
        "model = Logistic_regression()\n",
        "np.random.shuffle(original_data)\n",
        "X = original_data[:, :-1]  # features\n",
        "y = original_data[:, -1]   # labels"
      ],
      "execution_count": 102,
      "outputs": []
    },
    {
      "cell_type": "code",
      "metadata": {
        "colab": {
          "base_uri": "https://localhost:8080/"
        },
        "id": "IKriES7le0Pz",
        "outputId": "907be69d-25b3-48da-ce8c-1b9a305a0815"
      },
      "source": [
        "%%timeit\n",
        "w = model.fit(X, y, learning_rate=0.00001)"
      ],
      "execution_count": 103,
      "outputs": [
        {
          "output_type": "stream",
          "text": [
            "/usr/local/lib/python3.6/dist-packages/ipykernel_launcher.py:3: RuntimeWarning: overflow encountered in exp\n",
            "  This is separate from the ipykernel package so we can avoid doing imports until\n"
          ],
          "name": "stderr"
        },
        {
          "output_type": "stream",
          "text": [
            "1 loop, best of 3: 2.02 s per loop\n"
          ],
          "name": "stdout"
        }
      ]
    },
    {
      "cell_type": "code",
      "metadata": {
        "colab": {
          "base_uri": "https://localhost:8080/"
        },
        "id": "zZ39ltUkkZJj",
        "outputId": "ff9c8508-e4ff-445b-8e32-1896e5d93709"
      },
      "source": [
        "%%timeit\n",
        "w = model.fit(X, y, learning_rate=0.001)"
      ],
      "execution_count": 104,
      "outputs": [
        {
          "output_type": "stream",
          "text": [
            "/usr/local/lib/python3.6/dist-packages/ipykernel_launcher.py:3: RuntimeWarning: overflow encountered in exp\n",
            "  This is separate from the ipykernel package so we can avoid doing imports until\n"
          ],
          "name": "stderr"
        },
        {
          "output_type": "stream",
          "text": [
            "1 loop, best of 3: 2.08 s per loop\n"
          ],
          "name": "stdout"
        }
      ]
    },
    {
      "cell_type": "code",
      "metadata": {
        "colab": {
          "base_uri": "https://localhost:8080/"
        },
        "id": "DoZ_UQERkn5U",
        "outputId": "48a42804-ce91-4ada-b016-2238754a218b"
      },
      "source": [
        "%%timeit\n",
        "w = model.fit(X, y, learning_rate=0.01)"
      ],
      "execution_count": 105,
      "outputs": [
        {
          "output_type": "stream",
          "text": [
            "/usr/local/lib/python3.6/dist-packages/ipykernel_launcher.py:3: RuntimeWarning: overflow encountered in exp\n",
            "  This is separate from the ipykernel package so we can avoid doing imports until\n"
          ],
          "name": "stderr"
        },
        {
          "output_type": "stream",
          "text": [
            "1 loop, best of 3: 2.11 s per loop\n"
          ],
          "name": "stdout"
        }
      ]
    },
    {
      "cell_type": "markdown",
      "metadata": {
        "id": "9aCwwb-clC5m"
      },
      "source": [
        "###Using normalized features"
      ]
    },
    {
      "cell_type": "code",
      "metadata": {
        "id": "iyOcmreeith4"
      },
      "source": [
        "model = Logistic_regression()\n",
        "np.random.shuffle(NorDataset)\n",
        "X = NorDataset[:, :-1]  # features\n",
        "y = NorDataset[:, -1]   # labels"
      ],
      "execution_count": 106,
      "outputs": []
    },
    {
      "cell_type": "code",
      "metadata": {
        "colab": {
          "base_uri": "https://localhost:8080/"
        },
        "id": "WrPg4E1ti1iV",
        "outputId": "bf200d44-525f-49d9-db09-2edd0f47dd18"
      },
      "source": [
        "%%timeit\n",
        "w = model.fit(X, y, learning_rate=0.00001)"
      ],
      "execution_count": 107,
      "outputs": [
        {
          "output_type": "stream",
          "text": [
            "100 loops, best of 3: 3.57 ms per loop\n"
          ],
          "name": "stdout"
        }
      ]
    },
    {
      "cell_type": "code",
      "metadata": {
        "colab": {
          "base_uri": "https://localhost:8080/"
        },
        "id": "oePKiDuLlyNs",
        "outputId": "ddb04c20-2c76-430c-d39d-c06392fcf5d4"
      },
      "source": [
        "%%timeit\n",
        "w = model.fit(X, y, learning_rate=0.001)"
      ],
      "execution_count": 108,
      "outputs": [
        {
          "output_type": "stream",
          "text": [
            "/usr/local/lib/python3.6/dist-packages/ipykernel_launcher.py:3: RuntimeWarning: overflow encountered in exp\n",
            "  This is separate from the ipykernel package so we can avoid doing imports until\n"
          ],
          "name": "stderr"
        },
        {
          "output_type": "stream",
          "text": [
            "1 loop, best of 3: 1.84 s per loop\n"
          ],
          "name": "stdout"
        }
      ]
    },
    {
      "cell_type": "code",
      "metadata": {
        "colab": {
          "base_uri": "https://localhost:8080/"
        },
        "id": "44s_vMSPlyNs",
        "outputId": "1a797bf5-0a72-4a28-d0b1-2c4b00229540"
      },
      "source": [
        "%%timeit\n",
        "w = model.fit(X, y, learning_rate=0.01)"
      ],
      "execution_count": 109,
      "outputs": [
        {
          "output_type": "stream",
          "text": [
            "/usr/local/lib/python3.6/dist-packages/ipykernel_launcher.py:3: RuntimeWarning: overflow encountered in exp\n",
            "  This is separate from the ipykernel package so we can avoid doing imports until\n"
          ],
          "name": "stderr"
        },
        {
          "output_type": "stream",
          "text": [
            "1 loop, best of 3: 1.79 s per loop\n"
          ],
          "name": "stdout"
        }
      ]
    }
  ]
}