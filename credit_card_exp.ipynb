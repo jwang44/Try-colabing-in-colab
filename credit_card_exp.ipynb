{
  "nbformat": 4,
  "nbformat_minor": 0,
  "metadata": {
    "colab": {
      "name": "credit_card_exp.ipynb",
      "provenance": [],
      "include_colab_link": true
    },
    "kernelspec": {
      "name": "python3",
      "display_name": "Python 3"
    }
  },
  "cells": [
    {
      "cell_type": "markdown",
      "metadata": {
        "id": "view-in-github",
        "colab_type": "text"
      },
      "source": [
        "<a href=\"https://colab.research.google.com/github/jwang44/Try-colabing-in-colab/blob/main/credit_card_exp.ipynb\" target=\"_parent\"><img src=\"https://colab.research.google.com/assets/colab-badge.svg\" alt=\"Open In Colab\"/></a>"
      ]
    },
    {
      "cell_type": "markdown",
      "metadata": {
        "id": "W0NkwhApnnJk"
      },
      "source": [
        "# ECSE 551 Mini-project 1\n",
        "*Group 10: Junhao Wang, Yinan Zhou, and Ruilin Ji*\n",
        "\n",
        "This notebook is dedicated for the credit card dataset, including the model, cross validation, and various experiment. "
      ]
    },
    {
      "cell_type": "code",
      "metadata": {
        "id": "YGuRPcn_IsKD",
        "colab": {
          "base_uri": "https://localhost:8080/"
        },
        "outputId": "94f5ee60-6fed-4692-9083-a64dcb8ad110"
      },
      "source": [
        "from google.colab import drive\r\n",
        "drive.mount('/content/drive')"
      ],
      "execution_count": 20,
      "outputs": [
        {
          "output_type": "stream",
          "text": [
            "Drive already mounted at /content/drive; to attempt to forcibly remount, call drive.mount(\"/content/drive\", force_remount=True).\n"
          ],
          "name": "stdout"
        }
      ]
    },
    {
      "cell_type": "code",
      "metadata": {
        "id": "nrLPT4OTIt5v",
        "colab": {
          "base_uri": "https://localhost:8080/"
        },
        "outputId": "759e81a7-7f6f-4116-f61d-bda2e1a597a2"
      },
      "source": [
        "%cd \"/content/drive/My Drive/\""
      ],
      "execution_count": 21,
      "outputs": [
        {
          "output_type": "stream",
          "text": [
            "/content/drive/My Drive\n"
          ],
          "name": "stdout"
        }
      ]
    },
    {
      "cell_type": "code",
      "metadata": {
        "id": "quNizIZXIrdM"
      },
      "source": [
        "import numpy as np\r\n",
        "import pandas as pd\r\n",
        "import scipy.stats\r\n",
        "import statistics"
      ],
      "execution_count": 22,
      "outputs": []
    },
    {
      "cell_type": "markdown",
      "metadata": {
        "id": "AC_w-5Z0sMsJ"
      },
      "source": [
        "## Credit Card Dataset"
      ]
    },
    {
      "cell_type": "code",
      "metadata": {
        "id": "oQ-nyMGN0pKx"
      },
      "source": [
        "# generate new feature by multiplication and normalize\r\n",
        "def newfeature(x,y):\r\n",
        "  z=x*y\r\n",
        "  norz=scipy.stats.zscore(z, axis=0, ddof=0, nan_policy='propagate')\r\n",
        "  return norz"
      ],
      "execution_count": 23,
      "outputs": []
    },
    {
      "cell_type": "code",
      "metadata": {
        "id": "iXiM3pnF5j-2"
      },
      "source": [
        "# convert csv to dataframe\n",
        "df = pd.read_csv('creditcard.csv')\n",
        "# data = df.to_numpy()"
      ],
      "execution_count": 24,
      "outputs": []
    },
    {
      "cell_type": "code",
      "metadata": {
        "id": "QhHo1NiB4xWr"
      },
      "source": [
        "# normalize feature\r\n",
        "NorData = scipy.stats.zscore(df.iloc[:,:-1], axis=0, ddof=0, nan_policy='propagate')\r\n",
        "# normalized dataset\r\n",
        "NorDataset = np.column_stack((NorData,df.iloc[:,-1]))"
      ],
      "execution_count": 25,
      "outputs": []
    },
    {
      "cell_type": "markdown",
      "metadata": {
        "id": "e0kzCB3F5uWL"
      },
      "source": [
        "New feature"
      ]
    },
    {
      "cell_type": "code",
      "metadata": {
        "id": "iyg90-iG5vCB"
      },
      "source": [
        "NewF1 = newfeature(df.V3, df.V7)\r\n",
        "NewF2 = newfeature(df.V11, df.V12)\r\n",
        "NewF3 = newfeature(df.V12, df.V16)\r\n",
        "NewF4 = newfeature(df.V16, df.V17)\r\n",
        "NewF5 = newfeature(df.V16, df.V18)\r\n",
        "NewF6 = newfeature(df.V17, df.V18)\r\n",
        "# new feature\r\n",
        "NewF = np.column_stack((NewF1,NewF2,NewF3,NewF4,NewF5,NewF6))"
      ],
      "execution_count": 26,
      "outputs": []
    },
    {
      "cell_type": "code",
      "metadata": {
        "id": "mKMYL_506R_G"
      },
      "source": [
        "# normalized dataset with new feature\r\n",
        "NorDatasetNew = np.column_stack((NorData,NewF,df.iloc[:,-1]))"
      ],
      "execution_count": 27,
      "outputs": []
    },
    {
      "cell_type": "markdown",
      "metadata": {
        "id": "TwnmcLuQsdWb"
      },
      "source": [
        "## The model"
      ]
    },
    {
      "cell_type": "code",
      "metadata": {
        "id": "IYrl86Dhy9jy"
      },
      "source": [
        "# sigmoid function\n",
        "def sigmoid(a):\n",
        "  return 1/(1+np.exp(-a))\n",
        "\n",
        "class Logistic_regression():\n",
        "  def __init__(self,X_train,y_train,learning_rate,X_test,y_test):\n",
        "    self.X_train = X_train\n",
        "    self.y_train = y_train\n",
        "    self.learning_rate = learning_rate\n",
        "    self.X_test = X_test\n",
        "    self.y_test = y_test\n",
        "  \n",
        "  # training\n",
        "  def fit(self):\n",
        "    n,m = np.shape(self.X_train)\n",
        "    itrnum = 500       # max number of iterations \n",
        "    W = np.ones([m+1,itrnum+1]) # weights, initialized with 1 ---> change to 1 column\n",
        "    e = 0.01        # iteration stop criteria\n",
        "    der = 0        # derivative\n",
        "    for k in range(0,itrnum):\n",
        "      for i in range(0,n):\n",
        "        xi = self.X_train[i].T\n",
        "        x0 = np.array([1])\n",
        "        xi = np.concatenate((xi, x0),axis = 0)\n",
        "        yi = self.y_train[i]\n",
        "        der = der-xi*(yi-sigmoid(np.matmul(W[:,k].T,xi))) # take derivative w.r.t W\n",
        "      W[:,k+1] = W[:,k]-self.learning_rate*der       # update rule\n",
        "      if (np.linalg.norm(W[:,k+1]-W[:,k]))**2<e:         \n",
        "        break \n",
        "    return W[:,k+1]\n",
        "  \n",
        "  # validation\n",
        "  def predict(self):\n",
        "    w = self.fit()\n",
        "    n,m = np.shape(self.X_test)   \n",
        "    y_predict = np.zeros([n,1])\n",
        "    for i in range(0,n):\n",
        "      xi = self.X_test[i].T\n",
        "      x0 = np.array([1])\n",
        "      xi = np.concatenate((xi, x0),axis = 0)\n",
        "      p1 = sigmoid(np.matmul(w.T,xi)) # calculate probabilities p(y=1|x)\n",
        "      #p0=1-sigmoid(np.matmul(w.T,xi))\n",
        "      # covert probabilities to 0 or 1 by thresholding at 0.5\n",
        "      if p1>=0.5:\n",
        "        y_predict[i] = 1\n",
        "      else:\n",
        "        y_predict[i] = 0\n",
        "    return y_predict\n",
        "\n",
        "  # evaluate accuracy\n",
        "  def Accu_eval(self):\n",
        "    y_predict = self.predict()\n",
        "    n,j = np.shape(y_predict)\n",
        "    TP = 0\n",
        "    FP = 0\n",
        "    TN = 0\n",
        "    FN = 0\n",
        "    # count TP,TN,FP,FN in validation set\n",
        "    for i in range(n):\n",
        "      if  self.y_test[i]==1 and y_predict[i]==1:\n",
        "        TP = TP+1\n",
        "      elif self.y_test[i]==0 and y_predict[i]==0:\n",
        "        TN = TN+1\n",
        "      elif self.y_test[i]==0 and y_predict[i]==1:\n",
        "        FP = FP+1\n",
        "      elif self.y_test[i]==1 and y_predict[i]==0:\n",
        "        FN = FN+1\n",
        "    accuracy = (TP+TN)/(TP+TN+FP+FN)\n",
        "    precision = TP/(TP+FP)\n",
        "    recall = TP/(TP+FN)\n",
        "    F = 2*precision*recall/(precision+recall)\n",
        "    specificity = TN/(FP+TN)\n",
        "    FPR = FP/(FP+TN)\n",
        "    print(\"accuracy:\",accuracy)\n",
        "    print(\"precision:\",precision)\n",
        "    print(\"recall:\",recall)\n",
        "    print(\"F:\",F)\n",
        "    # print(\"specificity:\",specificity)\n",
        "    # print(\"False Positive Rate:\",FPR)\n",
        "    print(\"\")\n",
        "    return accuracy\n",
        "    "
      ],
      "execution_count": 28,
      "outputs": []
    },
    {
      "cell_type": "markdown",
      "metadata": {
        "id": "-qAaqa2lsZhe"
      },
      "source": [
        "## Cross validation"
      ]
    },
    {
      "cell_type": "code",
      "metadata": {
        "id": "MhmGiMSZ7wqx"
      },
      "source": [
        "class Cross_validation():\n",
        "  def __init__(self, k):\n",
        "    # k: k-fold\n",
        "    self.k = k\n",
        "\n",
        "  def prepare_data(self, data):\n",
        "    # data: np array converted from csv\n",
        "    np.random.shuffle(data)\n",
        "    X = data[:, :-1]  # features\n",
        "    y = data[:, -1]   # labels\n",
        "\n",
        "    # split data into k equal segments, assign them to train and test later\n",
        "    Xs = np.array_split(X, self.k, axis=0)\n",
        "    ys = np.array_split(y, self.k, axis=0)\n",
        "    return Xs, ys\n",
        "\n",
        "  def get_accuracy(self, Xs, ys, lr):\n",
        "    accu_trains = []\n",
        "    accu_vals = []\n",
        "    for i in range(self.k):\n",
        "      X_cv = Xs[:] # X_cross_validation\n",
        "      y_cv = ys[:] # y_cross_validation\n",
        "\n",
        "      X_test = X_cv.pop(i)\n",
        "      y_test = y_cv.pop(i)\n",
        "\n",
        "      X_train = np.concatenate(X_cv)\n",
        "      y_train = np.concatenate(y_cv)\n",
        "\n",
        "      # these two are for comparing the accuracy on training set and validation set\n",
        "      # by comparing them, we know whether the model is overfitting\n",
        "      train_only = Logistic_regression(X_train, y_train, lr, X_train, y_train)\n",
        "      train_and_val = Logistic_regression(X_train, y_train, lr, X_test, y_test)\n",
        "\n",
        "      print(\"----------FOLD \", i+1, \"----------\")\n",
        "      print(\"----Train----\")\n",
        "      accu_train = train_only.Accu_eval()\n",
        "      print(\"----Validation----\")\n",
        "      accu_val = train_and_val.Accu_eval()\n",
        "      accu_trains.append(accu_train)\n",
        "      accu_vals.append(accu_val)\n",
        "\n",
        "    return np.mean(accu_trains), np.mean(accu_vals)\n"
      ],
      "execution_count": 29,
      "outputs": []
    },
    {
      "cell_type": "markdown",
      "metadata": {
        "id": "IK8uhC3hsReE"
      },
      "source": [
        "## Experiment with different learning rates"
      ]
    },
    {
      "cell_type": "code",
      "metadata": {
        "id": "zwcQFygT8GOn",
        "colab": {
          "base_uri": "https://localhost:8080/"
        },
        "outputId": "563b86e3-146d-4de3-d1da-b8e1fe6c6692"
      },
      "source": [
        "lrs = np.logspace(-5, -1, 5) # different learning rates to try\n",
        "# or we can also try other hyperparameters here\n",
        "cv = Cross_validation(5) # 5-fold cross-validation\n",
        "Xs, ys = cv.prepare_data(original_data)\n",
        "for lr in lrs:\n",
        "  print(\"----------LEARNING RATE: \", lr, \"----------\")\n",
        "  accu_train_avg, accu_val_avg = cv.get_accuracy(Xs, ys, lr)\n",
        "  print(\"----------TRAIN ACCURACY\", accu_train_avg, \"----------\")\n",
        "  print(\"----------VALIDATION ACCURACY\", accu_val_avg, \"----------\")\n",
        "  print(\"\\n---------------------------------------------------------------------\\n\")\n"
      ],
      "execution_count": 30,
      "outputs": [
        {
          "output_type": "stream",
          "text": [
            "----------LEARNING RATE:  1e-05 ----------\n",
            "----------FOLD  1 ----------\n"
          ],
          "name": "stdout"
        },
        {
          "output_type": "stream",
          "text": [
            "/usr/local/lib/python3.6/dist-packages/ipykernel_launcher.py:3: RuntimeWarning: overflow encountered in exp\n",
            "  This is separate from the ipykernel package so we can avoid doing imports until\n"
          ],
          "name": "stderr"
        },
        {
          "output_type": "stream",
          "text": [
            "\n",
            "\n",
            "----------FOLD  2 ----------\n",
            "\n",
            "\n",
            "----------FOLD  3 ----------\n",
            "\n",
            "\n",
            "----------FOLD  4 ----------\n",
            "\n",
            "\n",
            "----------FOLD  5 ----------\n",
            "\n",
            "\n",
            "----------TRAIN ACCURACY 0.9399607678296202 ----------\n",
            "----------VALIDATION ACCURACY 0.9414699761433429 ----------\n",
            "\n",
            "---------------------------------------------------------------------\n",
            "\n",
            "----------LEARNING RATE:  0.0001 ----------\n",
            "----------FOLD  1 ----------\n",
            "\n",
            "\n",
            "----------FOLD  2 ----------\n",
            "\n",
            "\n",
            "----------FOLD  3 ----------\n",
            "\n",
            "\n",
            "----------FOLD  4 ----------\n",
            "\n",
            "\n",
            "----------FOLD  5 ----------\n",
            "\n",
            "\n",
            "----------TRAIN ACCURACY 0.9470216031691441 ----------\n",
            "----------VALIDATION ACCURACY 0.9465306329627937 ----------\n",
            "\n",
            "---------------------------------------------------------------------\n",
            "\n",
            "----------LEARNING RATE:  0.001 ----------\n",
            "----------FOLD  1 ----------\n",
            "\n",
            "\n",
            "----------FOLD  2 ----------\n",
            "\n",
            "\n",
            "----------FOLD  3 ----------\n",
            "\n",
            "\n",
            "----------FOLD  4 ----------\n",
            "\n",
            "\n",
            "----------FOLD  5 ----------\n",
            "\n",
            "\n",
            "----------TRAIN ACCURACY 0.9016113212834524 ----------\n",
            "----------VALIDATION ACCURACY 0.882939952286686 ----------\n",
            "\n",
            "---------------------------------------------------------------------\n",
            "\n",
            "----------LEARNING RATE:  0.01 ----------\n",
            "----------FOLD  1 ----------\n",
            "\n",
            "\n",
            "----------FOLD  2 ----------\n",
            "\n",
            "\n",
            "----------FOLD  3 ----------\n",
            "\n",
            "\n",
            "----------FOLD  4 ----------\n",
            "\n",
            "\n",
            "----------FOLD  5 ----------\n",
            "\n",
            "\n",
            "----------TRAIN ACCURACY 0.9381965939342989 ----------\n",
            "----------VALIDATION ACCURACY 0.927323486117456 ----------\n",
            "\n",
            "---------------------------------------------------------------------\n",
            "\n",
            "----------LEARNING RATE:  0.1 ----------\n",
            "----------FOLD  1 ----------\n",
            "\n",
            "\n",
            "----------FOLD  2 ----------\n",
            "\n",
            "\n",
            "----------FOLD  3 ----------\n",
            "\n",
            "\n",
            "----------FOLD  4 ----------\n",
            "\n",
            "\n",
            "----------FOLD  5 ----------\n",
            "\n",
            "\n",
            "----------TRAIN ACCURACY 0.9185235074579337 ----------\n",
            "----------VALIDATION ACCURACY 0.924293183087153 ----------\n",
            "\n",
            "---------------------------------------------------------------------\n",
            "\n"
          ],
          "name": "stdout"
        }
      ]
    },
    {
      "cell_type": "markdown",
      "metadata": {
        "id": "X9tX0BHqIfsy"
      },
      "source": [
        "## Experiment with different features"
      ]
    },
    {
      "cell_type": "code",
      "metadata": {
        "id": "hPPRiALdIj2V",
        "colab": {
          "base_uri": "https://localhost:8080/"
        },
        "outputId": "1eabae67-cfaa-4f09-c702-2b985047de7e"
      },
      "source": [
        "lr = 0.001\n",
        "cv = Cross_validation(5) # 5-fold cross-validation\n",
        "Xs, ys = cv.prepare_data(NorDataset)\n",
        "print(\"----------Using normalized features, without new features----------\")\n",
        "accu_avg = cv.get_accuracy(Xs, ys, lr)\n",
        "print(\"----------AVERAGE ACCURACY\", accu_avg, \"----------\")\n",
        "print(\"\\n---------------------------------------------------------------------\")\n"
      ],
      "execution_count": null,
      "outputs": [
        {
          "output_type": "stream",
          "text": [
            "----------Using normalized features, without new features----------\n",
            "----------FOLD  1 ----------\n"
          ],
          "name": "stdout"
        },
        {
          "output_type": "stream",
          "text": [
            "/usr/local/lib/python3.6/dist-packages/ipykernel_launcher.py:2: RuntimeWarning: overflow encountered in exp\n",
            "  \n"
          ],
          "name": "stderr"
        },
        {
          "output_type": "stream",
          "text": [
            "accuracy: 0.8548387096774194\n",
            "precision: 0.75\n",
            "recall: 0.7894736842105263\n",
            "F: 0.7692307692307692\n",
            "specificity: 0.8837209302325582\n",
            "False Positive Rate: 0.11627906976744186\n",
            "\n",
            "----------FOLD  2 ----------\n",
            "accuracy: 0.8548387096774194\n",
            "precision: 0.7368421052631579\n",
            "recall: 0.7777777777777778\n",
            "F: 0.7567567567567567\n",
            "specificity: 0.8863636363636364\n",
            "False Positive Rate: 0.11363636363636363\n",
            "\n",
            "----------FOLD  3 ----------\n",
            "accuracy: 0.8064516129032258\n",
            "precision: 0.8\n",
            "recall: 0.5714285714285714\n",
            "F: 0.6666666666666666\n",
            "specificity: 0.926829268292683\n",
            "False Positive Rate: 0.07317073170731707\n",
            "\n",
            "----------FOLD  4 ----------\n",
            "accuracy: 0.8709677419354839\n",
            "precision: 0.9047619047619048\n",
            "recall: 0.76\n",
            "F: 0.8260869565217391\n",
            "specificity: 0.9459459459459459\n",
            "False Positive Rate: 0.05405405405405406\n",
            "\n",
            "----------FOLD  5 ----------\n",
            "accuracy: 0.9516129032258065\n",
            "precision: 0.8421052631578947\n",
            "recall: 1.0\n",
            "F: 0.9142857142857143\n",
            "specificity: 0.9347826086956522\n",
            "False Positive Rate: 0.06521739130434782\n",
            "\n",
            "----------AVERAGE ACCURACY 0.867741935483871 ----------\n",
            "\n",
            "---------------------------------------------------------------------\n"
          ],
          "name": "stdout"
        }
      ]
    },
    {
      "cell_type": "code",
      "metadata": {
        "id": "z5HstgXSJ8rx",
        "colab": {
          "base_uri": "https://localhost:8080/"
        },
        "outputId": "a0b48612-371c-40f8-bb85-7b341d8a8c95"
      },
      "source": [
        "lr = 0.001\n",
        "cv = Cross_validation(5) # 5-fold cross-validation\n",
        "Xs, ys = cv.prepare_data(NorDatasetNew)\n",
        "print(\"----------Using normalized features, with new features----------\")\n",
        "accu_avg = cv.get_accuracy(Xs, ys, lr)\n",
        "print(\"----------AVERAGE ACCURACY\", accu_avg, \"----------\")\n",
        "print(\"\\n---------------------------------------------------------------------\")\n"
      ],
      "execution_count": null,
      "outputs": [
        {
          "output_type": "stream",
          "text": [
            "----------Using normalized features, with new features----------\n",
            "----------FOLD  1 ----------\n"
          ],
          "name": "stdout"
        },
        {
          "output_type": "stream",
          "text": [
            "/usr/local/lib/python3.6/dist-packages/ipykernel_launcher.py:2: RuntimeWarning: overflow encountered in exp\n",
            "  \n"
          ],
          "name": "stderr"
        },
        {
          "output_type": "stream",
          "text": [
            "accuracy: 0.8548387096774194\n",
            "precision: 0.9285714285714286\n",
            "recall: 0.6190476190476191\n",
            "F: 0.742857142857143\n",
            "specificity: 0.975609756097561\n",
            "False Positive Rate: 0.024390243902439025\n",
            "\n",
            "----------FOLD  2 ----------\n",
            "accuracy: 0.8387096774193549\n",
            "precision: 0.5555555555555556\n",
            "recall: 0.8333333333333334\n",
            "F: 0.6666666666666667\n",
            "specificity: 0.84\n",
            "False Positive Rate: 0.16\n",
            "\n",
            "----------FOLD  3 ----------\n",
            "accuracy: 0.8387096774193549\n",
            "precision: 0.7666666666666667\n",
            "recall: 0.8846153846153846\n",
            "F: 0.8214285714285715\n",
            "specificity: 0.8055555555555556\n",
            "False Positive Rate: 0.19444444444444445\n",
            "\n",
            "----------FOLD  4 ----------\n",
            "accuracy: 0.8225806451612904\n",
            "precision: 0.7\n",
            "recall: 0.7368421052631579\n",
            "F: 0.717948717948718\n",
            "specificity: 0.8604651162790697\n",
            "False Positive Rate: 0.13953488372093023\n",
            "\n",
            "----------FOLD  5 ----------\n",
            "accuracy: 0.7419354838709677\n",
            "precision: 0.6470588235294118\n",
            "recall: 0.5238095238095238\n",
            "F: 0.5789473684210527\n",
            "specificity: 0.8536585365853658\n",
            "False Positive Rate: 0.14634146341463414\n",
            "\n",
            "----------AVERAGE ACCURACY 0.8193548387096774 ----------\n",
            "\n",
            "---------------------------------------------------------------------\n"
          ],
          "name": "stdout"
        }
      ]
    }
  ]
}