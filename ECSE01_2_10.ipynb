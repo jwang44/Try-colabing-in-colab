{
  "nbformat": 4,
  "nbformat_minor": 0,
  "metadata": {
    "colab": {
      "name": "ECSE01_2_10.ipynb",
      "provenance": [],
      "collapsed_sections": [],
      "include_colab_link": true
    },
    "kernelspec": {
      "name": "python3",
      "display_name": "Python 3"
    }
  },
  "cells": [
    {
      "cell_type": "markdown",
      "metadata": {
        "id": "view-in-github",
        "colab_type": "text"
      },
      "source": [
        "<a href=\"https://colab.research.google.com/github/jwang44/Try-colabing-in-colab/blob/main/ECSE01_2_10.ipynb\" target=\"_parent\"><img src=\"https://colab.research.google.com/assets/colab-badge.svg\" alt=\"Open In Colab\"/></a>"
      ]
    },
    {
      "cell_type": "code",
      "metadata": {
        "colab": {
          "base_uri": "https://localhost:8080/"
        },
        "id": "oskj54Fv8eGB",
        "outputId": "73c67cb4-dccb-433b-9309-fc4f2465dbba"
      },
      "source": [
        "from google.colab import drive\n",
        "drive.mount('/content/drive')"
      ],
      "execution_count": 26,
      "outputs": [
        {
          "output_type": "stream",
          "text": [
            "Drive already mounted at /content/drive; to attempt to forcibly remount, call drive.mount(\"/content/drive\", force_remount=True).\n"
          ],
          "name": "stdout"
        }
      ]
    },
    {
      "cell_type": "code",
      "metadata": {
        "id": "2LFoqVsWOP14"
      },
      "source": [
        "import numpy as np\r\n",
        "import pandas as pd\r\n",
        "import scipy.stats\r\n",
        "import statistics"
      ],
      "execution_count": 27,
      "outputs": []
    },
    {
      "cell_type": "markdown",
      "metadata": {
        "id": "TwnmcLuQsdWb"
      },
      "source": [
        "## The model"
      ]
    },
    {
      "cell_type": "code",
      "metadata": {
        "id": "-7_Y_eMDpQX4"
      },
      "source": [
        "# sigmoid function\r\n",
        "def sigmoid(a):\r\n",
        "  return 1/(1+np.exp(-a))"
      ],
      "execution_count": 28,
      "outputs": []
    },
    {
      "cell_type": "code",
      "metadata": {
        "id": "IYrl86Dhy9jy"
      },
      "source": [
        "class Logistic_regression():\n",
        "  def __init__(self,X_train,y_train,learning_rate,X_test,y_test):\n",
        "    self.X_train = X_train\n",
        "    self.y_train = y_train\n",
        "    self.learning_rate = learning_rate\n",
        "    self.X_test = X_test\n",
        "    self.y_test = y_test\n",
        "  \n",
        "  # training\n",
        "  def fit(self):\n",
        "    n,m = np.shape(self.X_train)\n",
        "    itrnum = 500       # max number of iterations \n",
        "    W = np.ones([m+1,1]) # wk weights, initialized with 1\n",
        "    W1 = np.zeros([m+1,1])# wk+1 weights,initialized with 0\n",
        "    e = 0.001        \n",
        "    der = 0\n",
        "    for k in range(0,itrnum):\n",
        "      for i in range(0,n):\n",
        "        xi = self.X_train[i].T\n",
        "        x0 = np.array([1])\n",
        "        xi = np.concatenate((xi, x0),axis = 0)\n",
        "        yi = self.y_train[i]\n",
        "        der = der-xi*(yi-sigmoid(np.matmul(W[:,0].T,xi))) # take derivative w.r.t W\n",
        "      W1[:,0] = W[:,0]-self.learning_rate*der       # update rule\n",
        "      if (np.linalg.norm(W1[:,0]-W[:,0]))**2<e:         \n",
        "        break \n",
        "      else:\n",
        "        W = W1.copy()\n",
        "    return W1\n",
        "  \n",
        "  # validation\n",
        "  def predict(self):\n",
        "    w = self.fit()\n",
        "    n,m = np.shape(self.X_test)   \n",
        "    y_predict = np.zeros([n,1])\n",
        "    for i in range(0,n):\n",
        "      xi = self.X_test[i].T\n",
        "      x0 = np.array([1])\n",
        "      xi = np.concatenate((xi, x0),axis = 0)\n",
        "      p1 = sigmoid(np.matmul(w.T,xi)) # calculate probabilities p(y=1|x)\n",
        "      #p0=1-sigmoid(np.matmul(w.T,xi))\n",
        "      # covert probabilities to 0 or 1 by thresholding at 0.5\n",
        "      if p1>=0.5:\n",
        "        y_predict[i] = 1\n",
        "      else:\n",
        "        y_predict[i] = 0\n",
        "    return y_predict\n",
        "\n",
        "  # evaluate accuracy\n",
        "  def Accu_eval(self):\n",
        "    y_predict = self.predict()\n",
        "    n,j = np.shape(y_predict)\n",
        "    TP = 0\n",
        "    FP = 0\n",
        "    TN = 0\n",
        "    FN = 0\n",
        "    # count TP,TN,FP,FN in validation set\n",
        "    for i in range(n):\n",
        "      if  self.y_test[i]==1 and y_predict[i]==1:\n",
        "        TP = TP+1\n",
        "      elif self.y_test[i]==0 and y_predict[i]==0:\n",
        "        TN = TN+1\n",
        "      elif self.y_test[i]==0 and y_predict[i]==1:\n",
        "        FP = FP+1\n",
        "      elif self.y_test[i]==1 and y_predict[i]==0:\n",
        "        FN = FN+1\n",
        "    accuracy = (TP+TN)/(TP+TN+FP+FN)\n",
        "    precision = TP/(TP+FP)\n",
        "    recall = TP/(TP+FN)\n",
        "    F = 2*precision*recall/(precision+recall)\n",
        "    specificity = TN/(FP+TN)\n",
        "    FPR = FP/(FP+TN)\n",
        "    print(\"accuracy:\",accuracy)\n",
        "    print(\"precision:\",precision)\n",
        "    print(\"recall:\",recall)\n",
        "    print(\"F:\",F)\n",
        "    print(\"specificity:\",specificity)\n",
        "    print(\"False Positive Rate:\",FPR)\n",
        "    print(\"\")\n",
        "    return accuracy\n",
        "    "
      ],
      "execution_count": 44,
      "outputs": []
    },
    {
      "cell_type": "markdown",
      "metadata": {
        "id": "-qAaqa2lsZhe"
      },
      "source": [
        "## Cross validation"
      ]
    },
    {
      "cell_type": "code",
      "metadata": {
        "id": "MhmGiMSZ7wqx"
      },
      "source": [
        "class Cross_validation():\n",
        "  def __init__(self, k):\n",
        "    # k: k-fold\n",
        "    self.k = k\n",
        "\n",
        "  def prepare_data(self, data):\n",
        "    # data: np array converted from csv\n",
        "    np.random.shuffle(data)\n",
        "    X = data[:, :-1]  # features\n",
        "    y = data[:, -1]   # labels\n",
        "\n",
        "    # split data into k equal segments, assign them to train and test later\n",
        "    Xs = np.array_split(X, self.k, axis=0)\n",
        "    ys = np.array_split(y, self.k, axis=0)\n",
        "    return Xs, ys\n",
        "\n",
        "  def get_accuracy(self, Xs, ys, lr):\n",
        "    accuracies = []\n",
        "    for i in range(self.k):\n",
        "      X_cv = Xs[:] # X_cross_validation\n",
        "      y_cv = ys[:] # y_cross_validation\n",
        "\n",
        "      X_test = X_cv.pop(i)\n",
        "      y_test = y_cv.pop(i)\n",
        "\n",
        "      X_train = np.concatenate(X_cv)\n",
        "      y_train = np.concatenate(y_cv)\n",
        "\n",
        "      logistic_regression = Logistic_regression(X_train, y_train, lr, X_test, y_test)\n",
        "\n",
        "      print(\"----------FOLD \", i+1, \"----------\")\n",
        "      accuracy = logistic_regression.Accu_eval()\n",
        "      accuracies.append(accuracy)\n",
        "    return np.mean(accuracies)\n",
        "      # this will print the evaluation results"
      ],
      "execution_count": 29,
      "outputs": []
    },
    {
      "cell_type": "markdown",
      "metadata": {
        "id": "AC_w-5Z0sMsJ"
      },
      "source": [
        "## Dataset"
      ]
    },
    {
      "cell_type": "code",
      "metadata": {
        "id": "oQ-nyMGN0pKx"
      },
      "source": [
        "# generate new feature by multiplication and normalize\r\n",
        "def newfeature(x,y):\r\n",
        "  z=x*y\r\n",
        "  norz=scipy.stats.zscore(z, axis=0, ddof=0, nan_policy='propagate')\r\n",
        "  return norz"
      ],
      "execution_count": 30,
      "outputs": []
    },
    {
      "cell_type": "code",
      "metadata": {
        "colab": {
          "base_uri": "https://localhost:8080/"
        },
        "id": "VcIZP21G9mu_",
        "outputId": "57ab799c-4f1d-4d30-a1b2-06eecd0c5b9a"
      },
      "source": [
        "%cd \"/content/drive/My Drive/\""
      ],
      "execution_count": 31,
      "outputs": [
        {
          "output_type": "stream",
          "text": [
            "/content/drive/My Drive\n"
          ],
          "name": "stdout"
        }
      ]
    },
    {
      "cell_type": "markdown",
      "metadata": {
        "id": "g1gREIMPzw7M"
      },
      "source": [
        "### Orthopedic Patients Dataset"
      ]
    },
    {
      "cell_type": "code",
      "metadata": {
        "id": "rc7bhCtyW17b"
      },
      "source": [
        "# convert csv to dataframe\n",
        "df = pd.read_csv('orthopedic_patients.csv')\n",
        "original_data = df.to_numpy()"
      ],
      "execution_count": 32,
      "outputs": []
    },
    {
      "cell_type": "code",
      "metadata": {
        "id": "Ybt1JT3h0JpU"
      },
      "source": [
        "# normalize feature\r\n",
        "NorData = scipy.stats.zscore(df.iloc[:,:-1], axis=0, ddof=0, nan_policy='propagate')\r\n",
        "# normalized dataset\r\n",
        "NorDataset = np.column_stack((NorData, df['Class']))\r\n",
        "# np.savetxt('normalized_orthopedic_patients.csv', NorPatientData, delimiter=',')"
      ],
      "execution_count": 33,
      "outputs": []
    },
    {
      "cell_type": "markdown",
      "metadata": {
        "id": "6oDHjN7u0rbT"
      },
      "source": [
        "New feature"
      ]
    },
    {
      "cell_type": "code",
      "metadata": {
        "id": "drHfVd9v2elN"
      },
      "source": [
        "# new feature\r\n",
        "NewF = newfeature(df.pelvic_incidence, df.sacral_slope)\r\n",
        "# normalized dataset with new feature\r\n",
        "NorDatasetNew = np.column_stack((NorData,NewF,df['Class']))"
      ],
      "execution_count": 34,
      "outputs": []
    },
    {
      "cell_type": "markdown",
      "metadata": {
        "id": "vxtJdtJ-4qeZ"
      },
      "source": [
        "### Credit Card Dataset"
      ]
    },
    {
      "cell_type": "code",
      "metadata": {
        "id": "iXiM3pnF5j-2"
      },
      "source": [
        "# convert csv to dataframe\n",
        "df = pd.read_csv('creditcard.csv')\n",
        "# data = df.to_numpy()"
      ],
      "execution_count": null,
      "outputs": []
    },
    {
      "cell_type": "code",
      "metadata": {
        "id": "QhHo1NiB4xWr"
      },
      "source": [
        "# normalize feature\r\n",
        "NorData = scipy.stats.zscore(df.iloc[:,:-1], axis=0, ddof=0, nan_policy='propagate')\r\n",
        "# normalized dataset\r\n",
        "NorDataset = np.column_stack((NorData,df.iloc[:,-1]))"
      ],
      "execution_count": null,
      "outputs": []
    },
    {
      "cell_type": "markdown",
      "metadata": {
        "id": "e0kzCB3F5uWL"
      },
      "source": [
        "New feature"
      ]
    },
    {
      "cell_type": "code",
      "metadata": {
        "id": "iyg90-iG5vCB"
      },
      "source": [
        "NewF1 = newfeature(df.V3, df.V7)\r\n",
        "NewF2 = newfeature(df.V11, df.V12)\r\n",
        "NewF3 = newfeature(df.V12, df.V16)\r\n",
        "NewF4 = newfeature(df.V16, df.V17)\r\n",
        "NewF5 = newfeature(df.V16, df.V18)\r\n",
        "NewF6 = newfeature(df.V17, df.V18)\r\n",
        "# new feature\r\n",
        "NewF = np.column_stack((NewF1,NewF2,NewF3,NewF4,NewF5,NewF6))"
      ],
      "execution_count": null,
      "outputs": []
    },
    {
      "cell_type": "code",
      "metadata": {
        "id": "mKMYL_506R_G"
      },
      "source": [
        "# normalized dataset with new feature\r\n",
        "NorDatasetNew = np.column_stack((NorData,NewF,df.iloc[:,-1]))"
      ],
      "execution_count": null,
      "outputs": []
    },
    {
      "cell_type": "markdown",
      "metadata": {
        "id": "X9tX0BHqIfsy"
      },
      "source": [
        "## Experiment with different features"
      ]
    },
    {
      "cell_type": "code",
      "metadata": {
        "id": "hPPRiALdIj2V",
        "colab": {
          "base_uri": "https://localhost:8080/"
        },
        "outputId": "1d6c013f-1a7b-4516-eb75-8ea7c65d03e9"
      },
      "source": [
        "lr = 0.001\n",
        "cv = Cross_validation(5) # 5-fold cross-validation\n",
        "Xs, ys = cv.prepare_data(NorDataset)\n",
        "print(\"----------Using normalized features, without new features----------\")\n",
        "accu_avg = cv.get_accuracy(Xs, ys, lr)\n",
        "print(\"----------AVERAGE ACCURACY\", accu_avg, \"----------\")\n",
        "print(\"\\n---------------------------------------------------------------------\")\n"
      ],
      "execution_count": 41,
      "outputs": [
        {
          "output_type": "stream",
          "text": [
            "----------Using normalized features, without new features----------\n",
            "----------FOLD  1 ----------\n"
          ],
          "name": "stdout"
        },
        {
          "output_type": "stream",
          "text": [
            "/usr/local/lib/python3.6/dist-packages/ipykernel_launcher.py:3: RuntimeWarning: overflow encountered in exp\n",
            "  This is separate from the ipykernel package so we can avoid doing imports until\n"
          ],
          "name": "stderr"
        },
        {
          "output_type": "stream",
          "text": [
            "accuracy: 0.8225806451612904\n",
            "precision: 0.8333333333333334\n",
            "recall: 0.6521739130434783\n",
            "F: 0.7317073170731708\n",
            "specificity: 0.9230769230769231\n",
            "False Positive Rate: 0.07692307692307693\n",
            "\n",
            "----------FOLD  2 ----------\n",
            "accuracy: 0.8709677419354839\n",
            "precision: 0.6842105263157895\n",
            "recall: 0.8666666666666667\n",
            "F: 0.7647058823529413\n",
            "specificity: 0.8723404255319149\n",
            "False Positive Rate: 0.1276595744680851\n",
            "\n",
            "----------FOLD  3 ----------\n",
            "accuracy: 0.8548387096774194\n",
            "precision: 0.7916666666666666\n",
            "recall: 0.8260869565217391\n",
            "F: 0.8085106382978724\n",
            "specificity: 0.8717948717948718\n",
            "False Positive Rate: 0.1282051282051282\n",
            "\n",
            "----------FOLD  4 ----------\n",
            "accuracy: 0.8709677419354839\n",
            "precision: 0.6956521739130435\n",
            "recall: 0.9411764705882353\n",
            "F: 0.7999999999999999\n",
            "specificity: 0.8444444444444444\n",
            "False Positive Rate: 0.15555555555555556\n",
            "\n",
            "----------FOLD  5 ----------\n",
            "accuracy: 0.8870967741935484\n",
            "precision: 0.85\n",
            "recall: 0.8095238095238095\n",
            "F: 0.8292682926829269\n",
            "specificity: 0.926829268292683\n",
            "False Positive Rate: 0.07317073170731707\n",
            "\n",
            "----------AVERAGE ACCURACY 0.8612903225806452 ----------\n",
            "\n",
            "---------------------------------------------------------------------\n"
          ],
          "name": "stdout"
        }
      ]
    },
    {
      "cell_type": "code",
      "metadata": {
        "id": "z5HstgXSJ8rx",
        "colab": {
          "base_uri": "https://localhost:8080/"
        },
        "outputId": "270c8182-1271-4ff9-c367-76266a2d598a"
      },
      "source": [
        "lr = 0.001\n",
        "cv = Cross_validation(5) # 5-fold cross-validation\n",
        "Xs, ys = cv.prepare_data(NorDatasetNew)\n",
        "print(\"----------Using normalized features, with new features----------\")\n",
        "accu_avg = cv.get_accuracy(Xs, ys, lr)\n",
        "print(\"----------AVERAGE ACCURACY\", accu_avg, \"----------\")\n",
        "print(\"\\n---------------------------------------------------------------------\")\n"
      ],
      "execution_count": 45,
      "outputs": [
        {
          "output_type": "stream",
          "text": [
            "----------Using normalized features, with new features----------\n",
            "----------FOLD  1 ----------\n"
          ],
          "name": "stdout"
        },
        {
          "output_type": "stream",
          "text": [
            "/usr/local/lib/python3.6/dist-packages/ipykernel_launcher.py:3: RuntimeWarning: overflow encountered in exp\n",
            "  This is separate from the ipykernel package so we can avoid doing imports until\n"
          ],
          "name": "stderr"
        },
        {
          "output_type": "stream",
          "text": [
            "accuracy: 0.9032258064516129\n",
            "precision: 0.8461538461538461\n",
            "recall: 0.7333333333333333\n",
            "F: 0.7857142857142856\n",
            "specificity: 0.9574468085106383\n",
            "False Positive Rate: 0.0425531914893617\n",
            "\n",
            "----------FOLD  2 ----------\n",
            "accuracy: 0.8548387096774194\n",
            "precision: 0.8125\n",
            "recall: 0.6842105263157895\n",
            "F: 0.742857142857143\n",
            "specificity: 0.9302325581395349\n",
            "False Positive Rate: 0.06976744186046512\n",
            "\n",
            "----------FOLD  3 ----------\n",
            "accuracy: 0.8548387096774194\n",
            "precision: 0.9375\n",
            "recall: 0.6521739130434783\n",
            "F: 0.7692307692307693\n",
            "specificity: 0.9743589743589743\n",
            "False Positive Rate: 0.02564102564102564\n",
            "\n",
            "----------FOLD  4 ----------\n",
            "accuracy: 0.8225806451612904\n",
            "precision: 0.7368421052631579\n",
            "recall: 0.7\n",
            "F: 0.717948717948718\n",
            "specificity: 0.8809523809523809\n",
            "False Positive Rate: 0.11904761904761904\n",
            "\n",
            "----------FOLD  5 ----------\n",
            "accuracy: 0.8548387096774194\n",
            "precision: 0.8421052631578947\n",
            "recall: 0.7272727272727273\n",
            "F: 0.7804878048780488\n",
            "specificity: 0.925\n",
            "False Positive Rate: 0.075\n",
            "\n",
            "----------AVERAGE ACCURACY 0.8580645161290322 ----------\n",
            "\n",
            "---------------------------------------------------------------------\n"
          ],
          "name": "stdout"
        }
      ]
    },
    {
      "cell_type": "markdown",
      "metadata": {
        "id": "IK8uhC3hsReE"
      },
      "source": [
        "## Experiment with different learning rates"
      ]
    },
    {
      "cell_type": "code",
      "metadata": {
        "id": "zwcQFygT8GOn",
        "colab": {
          "base_uri": "https://localhost:8080/"
        },
        "outputId": "abb01f77-60e7-49f0-fabc-05fdb2a5db0a"
      },
      "source": [
        "lrs = np.logspace(-6, -1, 6) # different learning rates to try\n",
        "# or we can also try other hyperparameters here\n",
        "cv = Cross_validation(5) # 5-fold cross-validation\n",
        "Xs, ys = cv.prepare_data(original_data)\n",
        "for lr in lrs:\n",
        "  print(\"----------LEARNING RATE: \", lr, \"----------\")\n",
        "  accu_avg = cv.get_accuracy(Xs, ys, lr)\n",
        "  print(\"----------AVERAGE ACCURACY\", accu_avg, \"----------\")\n",
        "  print(\"\\n---------------------------------------------------------------------\\n\")\n"
      ],
      "execution_count": null,
      "outputs": [
        {
          "output_type": "stream",
          "text": [
            "----------LEARNING RATE:  1e-06 ----------\n",
            "----------FOLD  1 ----------\n",
            "accuracy: 0.3064516129032258\n",
            "precision: 0.3064516129032258\n",
            "recall: 1.0\n",
            "F: 0.46913580246913583\n",
            "specificity: 0.0\n",
            "False Positive Rate: 1.0\n",
            "\n",
            "----------FOLD  2 ----------\n",
            "accuracy: 0.27419354838709675\n",
            "precision: 0.27419354838709675\n",
            "recall: 1.0\n",
            "F: 0.430379746835443\n",
            "specificity: 0.0\n",
            "False Positive Rate: 1.0\n",
            "\n",
            "----------FOLD  3 ----------\n",
            "accuracy: 0.3387096774193548\n",
            "precision: 0.3387096774193548\n",
            "recall: 1.0\n",
            "F: 0.5060240963855421\n",
            "specificity: 0.0\n",
            "False Positive Rate: 1.0\n",
            "\n",
            "----------FOLD  4 ----------\n",
            "accuracy: 0.3709677419354839\n",
            "precision: 0.3709677419354839\n",
            "recall: 1.0\n",
            "F: 0.5411764705882353\n",
            "specificity: 0.0\n",
            "False Positive Rate: 1.0\n",
            "\n",
            "----------FOLD  5 ----------\n",
            "accuracy: 0.3064516129032258\n",
            "precision: 0.3064516129032258\n",
            "recall: 1.0\n",
            "F: 0.46913580246913583\n",
            "specificity: 0.0\n",
            "False Positive Rate: 1.0\n",
            "\n",
            "----------AVERAGE ACCURACY 0.31935483870967735 ----------\n",
            "\n",
            "---------------------------------------------------------------------\n",
            "\n",
            "----------LEARNING RATE:  1e-05 ----------\n",
            "----------FOLD  1 ----------\n"
          ],
          "name": "stdout"
        },
        {
          "output_type": "stream",
          "text": [
            "/usr/local/lib/python3.6/dist-packages/ipykernel_launcher.py:2: RuntimeWarning: overflow encountered in exp\n",
            "  \n"
          ],
          "name": "stderr"
        },
        {
          "output_type": "stream",
          "text": [
            "accuracy: 0.8548387096774194\n",
            "precision: 0.6923076923076923\n",
            "recall: 0.9473684210526315\n",
            "F: 0.7999999999999999\n",
            "specificity: 0.813953488372093\n",
            "False Positive Rate: 0.18604651162790697\n",
            "\n",
            "----------FOLD  2 ----------\n",
            "accuracy: 0.7741935483870968\n",
            "precision: 0.56\n",
            "recall: 0.8235294117647058\n",
            "F: 0.6666666666666666\n",
            "specificity: 0.7555555555555555\n",
            "False Positive Rate: 0.24444444444444444\n",
            "\n",
            "----------FOLD  3 ----------\n",
            "accuracy: 0.7903225806451613\n",
            "precision: 0.9\n",
            "recall: 0.42857142857142855\n",
            "F: 0.5806451612903225\n",
            "specificity: 0.975609756097561\n",
            "False Positive Rate: 0.024390243902439025\n",
            "\n",
            "----------FOLD  4 ----------\n",
            "accuracy: 0.7903225806451613\n",
            "precision: 1.0\n",
            "recall: 0.43478260869565216\n",
            "F: 0.6060606060606061\n",
            "specificity: 1.0\n",
            "False Positive Rate: 0.0\n",
            "\n",
            "----------FOLD  5 ----------\n",
            "accuracy: 0.8870967741935484\n",
            "precision: 0.8\n",
            "recall: 0.8421052631578947\n",
            "F: 0.8205128205128205\n",
            "specificity: 0.9069767441860465\n",
            "False Positive Rate: 0.09302325581395349\n",
            "\n",
            "----------AVERAGE ACCURACY 0.8193548387096772 ----------\n",
            "\n",
            "---------------------------------------------------------------------\n",
            "\n",
            "----------LEARNING RATE:  0.0001 ----------\n",
            "----------FOLD  1 ----------\n",
            "accuracy: 0.7903225806451613\n",
            "precision: 0.6666666666666666\n",
            "recall: 0.631578947368421\n",
            "F: 0.6486486486486486\n",
            "specificity: 0.8604651162790697\n",
            "False Positive Rate: 0.13953488372093023\n",
            "\n",
            "----------FOLD  2 ----------\n",
            "accuracy: 0.7580645161290323\n",
            "precision: 0.6\n",
            "recall: 0.35294117647058826\n",
            "F: 0.4444444444444445\n",
            "specificity: 0.9111111111111111\n",
            "False Positive Rate: 0.08888888888888889\n",
            "\n",
            "----------FOLD  3 ----------\n",
            "accuracy: 0.8387096774193549\n",
            "precision: 0.8235294117647058\n",
            "recall: 0.6666666666666666\n",
            "F: 0.7368421052631577\n",
            "specificity: 0.926829268292683\n",
            "False Positive Rate: 0.07317073170731707\n",
            "\n",
            "----------FOLD  4 ----------\n",
            "accuracy: 0.7580645161290323\n",
            "precision: 0.6333333333333333\n",
            "recall: 0.8260869565217391\n",
            "F: 0.7169811320754716\n",
            "specificity: 0.717948717948718\n",
            "False Positive Rate: 0.28205128205128205\n",
            "\n",
            "----------FOLD  5 ----------\n",
            "accuracy: 0.7903225806451613\n",
            "precision: 0.59375\n",
            "recall: 1.0\n",
            "F: 0.7450980392156863\n",
            "specificity: 0.6976744186046512\n",
            "False Positive Rate: 0.3023255813953488\n",
            "\n",
            "----------AVERAGE ACCURACY 0.7870967741935484 ----------\n",
            "\n",
            "---------------------------------------------------------------------\n",
            "\n",
            "----------LEARNING RATE:  0.001 ----------\n",
            "----------FOLD  1 ----------\n",
            "accuracy: 0.7741935483870968\n",
            "precision: 0.8571428571428571\n",
            "recall: 0.3157894736842105\n",
            "F: 0.46153846153846156\n",
            "specificity: 0.9767441860465116\n",
            "False Positive Rate: 0.023255813953488372\n",
            "\n",
            "----------FOLD  2 ----------\n",
            "accuracy: 0.6451612903225806\n",
            "precision: 0.2222222222222222\n",
            "recall: 0.11764705882352941\n",
            "F: 0.15384615384615383\n",
            "specificity: 0.8444444444444444\n",
            "False Positive Rate: 0.15555555555555556\n",
            "\n",
            "----------FOLD  3 ----------\n",
            "accuracy: 0.8387096774193549\n",
            "precision: 0.6896551724137931\n",
            "recall: 0.9523809523809523\n",
            "F: 0.7999999999999999\n",
            "specificity: 0.7804878048780488\n",
            "False Positive Rate: 0.21951219512195122\n",
            "\n",
            "----------FOLD  4 ----------\n",
            "accuracy: 0.8064516129032258\n",
            "precision: 0.7894736842105263\n",
            "recall: 0.6521739130434783\n",
            "F: 0.7142857142857143\n",
            "specificity: 0.8974358974358975\n",
            "False Positive Rate: 0.10256410256410256\n",
            "\n",
            "----------FOLD  5 ----------\n",
            "accuracy: 0.7903225806451613\n",
            "precision: 0.6\n",
            "recall: 0.9473684210526315\n",
            "F: 0.7346938775510204\n",
            "specificity: 0.7209302325581395\n",
            "False Positive Rate: 0.27906976744186046\n",
            "\n",
            "----------AVERAGE ACCURACY 0.7709677419354838 ----------\n",
            "\n",
            "---------------------------------------------------------------------\n",
            "\n",
            "----------LEARNING RATE:  0.01 ----------\n",
            "----------FOLD  1 ----------\n",
            "accuracy: 0.7903225806451613\n",
            "precision: 1.0\n",
            "recall: 0.3157894736842105\n",
            "F: 0.4799999999999999\n",
            "specificity: 1.0\n",
            "False Positive Rate: 0.0\n",
            "\n",
            "----------FOLD  2 ----------\n",
            "accuracy: 0.7096774193548387\n",
            "precision: 0.42857142857142855\n",
            "recall: 0.17647058823529413\n",
            "F: 0.25\n",
            "specificity: 0.9111111111111111\n",
            "False Positive Rate: 0.08888888888888889\n",
            "\n",
            "----------FOLD  3 ----------\n",
            "accuracy: 0.8548387096774194\n",
            "precision: 0.7307692307692307\n",
            "recall: 0.9047619047619048\n",
            "F: 0.8085106382978723\n",
            "specificity: 0.8292682926829268\n",
            "False Positive Rate: 0.17073170731707318\n",
            "\n",
            "----------FOLD  4 ----------\n",
            "accuracy: 0.7258064516129032\n",
            "precision: 1.0\n",
            "recall: 0.2608695652173913\n",
            "F: 0.41379310344827586\n",
            "specificity: 1.0\n",
            "False Positive Rate: 0.0\n",
            "\n",
            "----------FOLD  5 ----------\n",
            "accuracy: 0.8548387096774194\n",
            "precision: 0.8571428571428571\n",
            "recall: 0.631578947368421\n",
            "F: 0.7272727272727273\n",
            "specificity: 0.9534883720930233\n",
            "False Positive Rate: 0.046511627906976744\n",
            "\n",
            "----------AVERAGE ACCURACY 0.7870967741935485 ----------\n",
            "\n",
            "---------------------------------------------------------------------\n",
            "\n",
            "----------LEARNING RATE:  0.1 ----------\n",
            "----------FOLD  1 ----------\n",
            "accuracy: 0.8064516129032258\n",
            "precision: 1.0\n",
            "recall: 0.3684210526315789\n",
            "F: 0.5384615384615384\n",
            "specificity: 1.0\n",
            "False Positive Rate: 0.0\n",
            "\n",
            "----------FOLD  2 ----------\n",
            "accuracy: 0.6290322580645161\n",
            "precision: 0.4117647058823529\n",
            "recall: 0.8235294117647058\n",
            "F: 0.5490196078431372\n",
            "specificity: 0.5555555555555556\n",
            "False Positive Rate: 0.4444444444444444\n",
            "\n",
            "----------FOLD  3 ----------\n",
            "accuracy: 0.8064516129032258\n",
            "precision: 0.9090909090909091\n",
            "recall: 0.47619047619047616\n",
            "F: 0.6249999999999999\n",
            "specificity: 0.975609756097561\n",
            "False Positive Rate: 0.024390243902439025\n",
            "\n",
            "----------FOLD  4 ----------\n",
            "accuracy: 0.7903225806451613\n",
            "precision: 0.75\n",
            "recall: 0.6521739130434783\n",
            "F: 0.6976744186046512\n",
            "specificity: 0.8717948717948718\n",
            "False Positive Rate: 0.1282051282051282\n",
            "\n",
            "----------FOLD  5 ----------\n",
            "accuracy: 0.8064516129032258\n",
            "precision: 0.6206896551724138\n",
            "recall: 0.9473684210526315\n",
            "F: 0.75\n",
            "specificity: 0.7441860465116279\n",
            "False Positive Rate: 0.2558139534883721\n",
            "\n",
            "----------AVERAGE ACCURACY 0.767741935483871 ----------\n",
            "\n",
            "---------------------------------------------------------------------\n",
            "\n"
          ],
          "name": "stdout"
        }
      ]
    }
  ]
}